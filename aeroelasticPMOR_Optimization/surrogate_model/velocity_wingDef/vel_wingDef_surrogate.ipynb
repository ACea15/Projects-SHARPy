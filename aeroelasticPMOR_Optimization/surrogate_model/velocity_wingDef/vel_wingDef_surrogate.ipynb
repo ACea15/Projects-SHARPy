{
 "cells": [
  {
   "cell_type": "markdown",
   "id": "00709057",
   "metadata": {},
   "source": [
    "# Velocity-Wing deflection surrogate"
   ]
  },
  {
   "cell_type": "markdown",
   "id": "fedf67ec",
   "metadata": {},
   "source": [
    "This file contains the procedures on obtaining a surrogate \\\n",
    "Date: 30/03/22"
   ]
  },
  {
   "cell_type": "markdown",
   "id": "4607d273",
   "metadata": {},
   "source": [
    "First read the data inputs"
   ]
  },
  {
   "cell_type": "code",
   "execution_count": 1,
   "id": "f6ed8218",
   "metadata": {},
   "outputs": [],
   "source": [
    "import numpy as np\n",
    "import matplotlib\n",
    "import matplotlib.pyplot as plt\n",
    "import os\n",
    "import pandas as pd"
   ]
  },
  {
   "cell_type": "code",
   "execution_count": 2,
   "id": "40e8a3bf",
   "metadata": {},
   "outputs": [],
   "source": [
    "data_pandas = pd.read_csv('vel_wing_def.csv') "
   ]
  },
  {
   "cell_type": "code",
   "execution_count": 3,
   "id": "63768f5a",
   "metadata": {},
   "outputs": [
    {
     "data": {
      "text/html": [
       "<div>\n",
       "<style scoped>\n",
       "    .dataframe tbody tr th:only-of-type {\n",
       "        vertical-align: middle;\n",
       "    }\n",
       "\n",
       "    .dataframe tbody tr th {\n",
       "        vertical-align: top;\n",
       "    }\n",
       "\n",
       "    .dataframe thead th {\n",
       "        text-align: right;\n",
       "    }\n",
       "</style>\n",
       "<table border=\"1\" class=\"dataframe\">\n",
       "  <thead>\n",
       "    <tr style=\"text-align: right;\">\n",
       "      <th></th>\n",
       "      <th>Unnamed: 0</th>\n",
       "      <th>vel</th>\n",
       "      <th>wing_Def</th>\n",
       "    </tr>\n",
       "  </thead>\n",
       "  <tbody>\n",
       "    <tr>\n",
       "      <th>0</th>\n",
       "      <td>0</td>\n",
       "      <td>3.0</td>\n",
       "      <td>0.000484</td>\n",
       "    </tr>\n",
       "    <tr>\n",
       "      <th>1</th>\n",
       "      <td>1</td>\n",
       "      <td>8.0</td>\n",
       "      <td>0.003449</td>\n",
       "    </tr>\n",
       "    <tr>\n",
       "      <th>2</th>\n",
       "      <td>2</td>\n",
       "      <td>13.0</td>\n",
       "      <td>0.009144</td>\n",
       "    </tr>\n",
       "    <tr>\n",
       "      <th>3</th>\n",
       "      <td>3</td>\n",
       "      <td>18.0</td>\n",
       "      <td>0.017634</td>\n",
       "    </tr>\n",
       "    <tr>\n",
       "      <th>4</th>\n",
       "      <td>4</td>\n",
       "      <td>23.0</td>\n",
       "      <td>0.028977</td>\n",
       "    </tr>\n",
       "  </tbody>\n",
       "</table>\n",
       "</div>"
      ],
      "text/plain": [
       "   Unnamed: 0   vel  wing_Def\n",
       "0           0   3.0  0.000484\n",
       "1           1   8.0  0.003449\n",
       "2           2  13.0  0.009144\n",
       "3           3  18.0  0.017634\n",
       "4           4  23.0  0.028977"
      ]
     },
     "execution_count": 3,
     "metadata": {},
     "output_type": "execute_result"
    }
   ],
   "source": [
    "data_pandas.head()"
   ]
  },
  {
   "cell_type": "markdown",
   "id": "1947ac23",
   "metadata": {},
   "source": [
    "Extract the data inputs from the pandas DataFrame"
   ]
  },
  {
   "cell_type": "code",
   "execution_count": 4,
   "id": "3f413a89",
   "metadata": {},
   "outputs": [],
   "source": [
    "data_numpy = data_pandas.to_numpy()"
   ]
  },
  {
   "cell_type": "code",
   "execution_count": 5,
   "id": "538af65a",
   "metadata": {},
   "outputs": [
    {
     "name": "stdout",
     "output_type": "stream",
     "text": [
      "[[0.00000000e+00 3.00000000e+00 4.83950909e-04]\n",
      " [1.00000000e+00 8.00000000e+00 3.44905968e-03]\n",
      " [2.00000000e+00 1.30000000e+01 9.14429613e-03]\n",
      " [3.00000000e+00 1.80000000e+01 1.76341534e-02]\n",
      " [4.00000000e+00 2.30000000e+01 2.89770754e-02]\n",
      " [5.00000000e+00 2.80000000e+01 4.32132117e-02]\n",
      " [6.00000000e+00 3.30000000e+01 6.03253630e-02]]\n"
     ]
    }
   ],
   "source": [
    "print(data_numpy)"
   ]
  },
  {
   "cell_type": "markdown",
   "id": "aa35beeb",
   "metadata": {},
   "source": [
    "Transfer columns to individual numpy variables"
   ]
  },
  {
   "cell_type": "code",
   "execution_count": 6,
   "id": "0cb887c1",
   "metadata": {},
   "outputs": [],
   "source": [
    "AR = 10.0\n",
    "winglt_length = 4.0\n",
    "winglt_dhdrl  = 20*np.pi/180\n",
    "wing_chord    = 1.0\n",
    "index = data_numpy[:,0]\n",
    "vel = data_numpy[:,1]\n",
    "wing_def = data_numpy[:,2]\n",
    "semi_span = 0.5*AR*wing_chord-winglt_length*np.cos(winglt_dhdrl)"
   ]
  },
  {
   "cell_type": "markdown",
   "id": "6af1fe33",
   "metadata": {},
   "source": [
    "Do a non-dimensionalisation wrt. wing semi_span. Could look in literature how other people have done it"
   ]
  },
  {
   "cell_type": "code",
   "execution_count": 7,
   "id": "b7163d63",
   "metadata": {},
   "outputs": [
    {
     "name": "stdout",
     "output_type": "stream",
     "text": [
      "[0.0003899  0.00277874 0.00736713 0.014207   0.02334546 0.03481484\n",
      " 0.0486013 ]\n"
     ]
    }
   ],
   "source": [
    "wingDef_nonDim = wing_def/semi_span\n",
    "print(wingDef_nonDim)"
   ]
  },
  {
   "cell_type": "markdown",
   "id": "fc58e957",
   "metadata": {},
   "source": [
    "## Split the data into training and testing"
   ]
  },
  {
   "cell_type": "code",
   "execution_count": 12,
   "id": "f539b023",
   "metadata": {},
   "outputs": [],
   "source": [
    "# Set pair values for training and odd to testing\n",
    "# For now do it manually as I cannot be asked to do it by coding (What a blasfemy!)\n",
    "vel_train = vel[[0,2,4,6]]\n",
    "wingDef_nonDim_train = wingDef_nonDim[[0,2,4,6]]\n",
    "\n",
    "vel_test = vel[[1,3,5]]\n",
    "wingDef_nonDim_test = wingDef_nonDim[[1,3,5]]"
   ]
  },
  {
   "cell_type": "markdown",
   "id": "e83d55e7",
   "metadata": {},
   "source": [
    "## Plot results"
   ]
  },
  {
   "cell_type": "code",
   "execution_count": 13,
   "id": "10cb832f",
   "metadata": {},
   "outputs": [
    {
     "data": {
      "text/plain": [
       "Text(0.5, 0, 'Uinf (m/s)')"
      ]
     },
     "execution_count": 13,
     "metadata": {},
     "output_type": "execute_result"
    },
    {
     "data": {
      "image/png": "[encoded data removed]",
      "text/plain": [
       "<Figure size 432x288 with 1 Axes>"
      ]
     },
     "metadata": {
      "needs_background": "light"
     },
     "output_type": "display_data"
    }
   ],
   "source": [
    "fig = plt.figure()\n",
    "ax  = fig.add_subplot(1,1,1)\n",
    "plt.plot(vel_train,wingDef_nonDim_train,'x')\n",
    "ax.grid(True)\n",
    "ax.set_ylabel('Wing Deflection (% s)')\n",
    "ax.set_xlabel('Uinf (m/s)')"
   ]
  },
  {
   "cell_type": "markdown",
   "id": "521a4a4c",
   "metadata": {},
   "source": [
    "## Curve Fitting"
   ]
  },
  {
   "cell_type": "markdown",
   "id": "bfaddfc5",
   "metadata": {},
   "source": [
    "First approach is to use a polynomial, can try various degrees e.g 2nd order, 3rd order etc... Note that 4th order should give zero error at the training data points\n"
   ]
  },
  {
   "cell_type": "code",
   "execution_count": 14,
   "id": "5e62e7d7",
   "metadata": {},
   "outputs": [],
   "source": [
    "def polynomial_basis(k,x):\n",
    "    \"\"\"Evaluates vector x using a kth degree polynomial.\n",
    "\n",
    "    Args:\n",
    "        k      (int): Degree of polynomial to be used\n",
    "        x (np.array): Vector of points to be evaluated\n",
    "\n",
    "    Returns:\n",
    "        b (np.array): 2D array with evaluations of x for \n",
    "\n",
    "    \"\"\"\n",
    "    num = x.size\n",
    "    b = np.zeros([num,k+1])\n",
    "    b[:,0] = 1\n",
    "    for i in range(num):\n",
    "        for j in range(k):\n",
    "            b[i,j+1] = x[i]**(j+1)\n",
    "    return b\n",
    "        \n",
    "    "
   ]
  },
  {
   "cell_type": "markdown",
   "id": "6c571742",
   "metadata": {},
   "source": [
    "Test the function "
   ]
  },
  {
   "cell_type": "code",
   "execution_count": 15,
   "id": "80f401a8",
   "metadata": {},
   "outputs": [
    {
     "name": "stdout",
     "output_type": "stream",
     "text": [
      "[[1.000e+00 3.000e+00 9.000e+00]\n",
      " [1.000e+00 1.300e+01 1.690e+02]\n",
      " [1.000e+00 2.300e+01 5.290e+02]\n",
      " [1.000e+00 3.300e+01 1.089e+03]]\n"
     ]
    }
   ],
   "source": [
    "k = 2\n",
    "x = vel_train\n",
    "b = polynomial_basis(k,x)\n",
    "print(b)"
   ]
  },
  {
   "cell_type": "code",
   "execution_count": 17,
   "id": "9047f3c8",
   "metadata": {},
   "outputs": [
    {
     "name": "stdout",
     "output_type": "stream",
     "text": [
      "[[ 1.  3.  3.]\n",
      " [ 1. 13. 13.]\n",
      " [ 1. 23. 23.]\n",
      " [ 1. 33. 33.]]\n"
     ]
    }
   ],
   "source": [
    "test = np.zeros([len(x),k+1])\n",
    "test[:,0] = 1\n",
    "\n",
    "for i in range(len(x)):\n",
    "    for j in range(k):\n",
    "        test[i,j+1] = x[i]\n",
    "print(test)"
   ]
  },
  {
   "cell_type": "markdown",
   "id": "9d2f0761",
   "metadata": {},
   "source": [
    "Now implement the regression model. Try using the method from Kochenderfer which utilises the Pseudoinverse from numpy : numpy.linalg.pinv"
   ]
  },
  {
   "cell_type": "code",
   "execution_count": 18,
   "id": "576b6659",
   "metadata": {},
   "outputs": [
    {
     "name": "stdout",
     "output_type": "stream",
     "text": [
      "[[ 1.2875 -0.0675 -0.4275  0.2075]\n",
      " [-0.12    0.08    0.1    -0.06  ]\n",
      " [ 0.0025 -0.0025 -0.0025  0.0025]]\n",
      "[0.0003899  0.00277874 0.00736713 0.014207   0.02334546 0.03481484\n",
      " 0.0486013 ]\n",
      "\n",
      "\n",
      "[[ 1.2875 -0.0675 -0.4275  0.2075]\n",
      " [-0.12    0.08    0.1    -0.06  ]\n",
      " [ 0.0025 -0.0025 -0.0025  0.0025]]\n",
      "[[0.0003899 ]\n",
      " [0.00736713]\n",
      " [0.02334546]\n",
      " [0.0486013 ]]\n",
      "\n",
      "\n",
      "[[ 1.09294767e-04]\n",
      " [-3.89490070e-05]\n",
      " [ 4.56965091e-05]]\n"
     ]
    }
   ],
   "source": [
    "bpinv = np.linalg.pinv(b)\n",
    "\n",
    "print(bpinv)\n",
    "\n",
    "print(wingDef_nonDim)\n",
    "print('\\n')\n",
    "# Use matrix arithmetic\n",
    "wingDef_nonDim_train = np.matrix(wingDef_nonDim_train).T # Makes it a column vector\n",
    "bpinv = np.matrix(bpinv)\n",
    "\n",
    "print(bpinv)\n",
    "print(wingDef_nonDim_train)\n",
    "print('\\n')\n",
    "params = bpinv*wingDef_nonDim_train\n",
    "print(params)"
   ]
  },
  {
   "cell_type": "markdown",
   "id": "a3ae01d8",
   "metadata": {},
   "source": [
    "Evaluate the surrogate at many x points\n"
   ]
  },
  {
   "cell_type": "code",
   "execution_count": 19,
   "id": "cda5c5a1",
   "metadata": {},
   "outputs": [],
   "source": [
    "xp = np.linspace(x[0],x[len(x)-1],100)\n",
    "yp = np.zeros([len(xp),])\n",
    "for i in range(len(yp)):\n",
    "    btest = polynomial_basis(k,np.array([xp[i]]))\n",
    "    yp[i] = np.dot(btest,params)\n",
    "\n",
    "\n"
   ]
  },
  {
   "cell_type": "markdown",
   "id": "381c08b1",
   "metadata": {},
   "source": [
    "Plot results to see if the graphs roughly match"
   ]
  },
  {
   "cell_type": "code",
   "execution_count": 20,
   "id": "d14ac50c",
   "metadata": {},
   "outputs": [
    {
     "data": {
      "text/plain": [
       "(100,)"
      ]
     },
     "execution_count": 20,
     "metadata": {},
     "output_type": "execute_result"
    }
   ],
   "source": [
    "xp.shape\n",
    "yp.shape"
   ]
  },
  {
   "cell_type": "code",
   "execution_count": 21,
   "id": "80f38028",
   "metadata": {},
   "outputs": [
    {
     "data": {
      "text/plain": [
       "Text(0.5, 0, 'Uinf (m/s)')"
      ]
     },
     "execution_count": 21,
     "metadata": {},
     "output_type": "execute_result"
    },
    {
     "data": {
      "image/png": "[encoded data removed]",
      "text/plain": [
       "<Figure size 432x288 with 1 Axes>"
      ]
     },
     "metadata": {
      "needs_background": "light"
     },
     "output_type": "display_data"
    }
   ],
   "source": [
    "fig2, ax = plt.subplots()\n",
    "\n",
    "ax.plot(x,wingDef_nonDim_train,'x')\n",
    "ax.plot(xp,yp)\n",
    "\n",
    "ax.legend([\"Training points\",\"Data-Fit\"])\n",
    "ax.grid(True)\n",
    "ax.set_ylabel('Wing Deflection (% s)')\n",
    "ax.set_xlabel('Uinf (m/s)')\n",
    "\n",
    "\n"
   ]
  },
  {
   "cell_type": "markdown",
   "id": "d4cef2eb",
   "metadata": {},
   "source": [
    "## Get the errors from testing data"
   ]
  },
  {
   "cell_type": "code",
   "execution_count": 22,
   "id": "06c5ec73",
   "metadata": {},
   "outputs": [],
   "source": [
    "x_test = vel_test"
   ]
  },
  {
   "cell_type": "code",
   "execution_count": 24,
   "id": "5afc8d72",
   "metadata": {},
   "outputs": [
    {
     "data": {
      "text/plain": [
       "Text(0.5, 0, 'Uinf (m/s)')"
      ]
     },
     "execution_count": 24,
     "metadata": {},
     "output_type": "execute_result"
    },
    {
     "data": {
      "image/png": "[encoded data removed]",
      "text/plain": [
       "<Figure size 432x288 with 1 Axes>"
      ]
     },
     "metadata": {
      "needs_background": "light"
     },
     "output_type": "display_data"
    }
   ],
   "source": [
    "# Plot the points on the graph\n",
    "fig3, ax = plt.subplots()\n",
    "\n",
    "ax.plot(x,wingDef_nonDim_train,'x')\n",
    "ax.plot(x_test,wingDef_nonDim_test,'o')\n",
    "ax.plot(xp,yp)\n",
    "\n",
    "\n",
    "ax.legend([\"Training points\",\"Testing points\",\"Data-Fit\"])\n",
    "ax.grid(True)\n",
    "ax.set_ylabel('Wing Deflection (% s)')\n",
    "ax.set_xlabel('Uinf (m/s)')"
   ]
  },
  {
   "cell_type": "code",
   "execution_count": 26,
   "id": "d3fdc340",
   "metadata": {},
   "outputs": [
    {
     "name": "stdout",
     "output_type": "stream",
     "text": [
      "[[1.37737699e-09]]\n"
     ]
    }
   ],
   "source": [
    "# Calculate the generalisation error for a second order \n",
    "k = 2\n",
    "error = 0;\n",
    "for i in range(len(x_test)):\n",
    "    btest = polynomial_basis(k,np.array([x_test[i]]))\n",
    "    ys = np.dot(btest,params)\n",
    "    error += (ys-wingDef_nonDim_test[i])**2\n",
    "error = error/len(x_test)\n",
    "\n",
    "print(error)"
   ]
  },
  {
   "cell_type": "markdown",
   "id": "d4ce68e6",
   "metadata": {},
   "source": [
    "## Testing error for different polynomial basis"
   ]
  },
  {
   "cell_type": "markdown",
   "id": "c4371e0a",
   "metadata": {},
   "source": [
    "Using a third order polynomial"
   ]
  },
  {
   "cell_type": "code",
   "execution_count": 29,
   "id": "457a9ca4",
   "metadata": {},
   "outputs": [],
   "source": [
    "k = 3\n",
    "x = vel_train\n",
    "b = polynomial_basis(k,x)\n",
    "bpinv = np.linalg.pinv(b)\n",
    "params = bpinv*wingDef_nonDim_train\n",
    "\n",
    "xp = np.linspace(x[0],x[len(x)-1],100)\n",
    "yp3 = np.zeros([len(xp),])\n",
    "for i in range(len(yp3)):\n",
    "    btest = polynomial_basis(k,np.array([xp[i]]))\n",
    "    yp3[i] = np.dot(btest,params)\n",
    "\n"
   ]
  },
  {
   "cell_type": "markdown",
   "id": "d6a81367",
   "metadata": {},
   "source": [
    "Get the error"
   ]
  },
  {
   "cell_type": "code",
   "execution_count": 30,
   "id": "e168a084",
   "metadata": {},
   "outputs": [],
   "source": [
    "error3 = 0;\n",
    "for i in range(len(x_test)):\n",
    "    btest = polynomial_basis(k,np.array([x_test[i]]))\n",
    "    ys = np.dot(btest,params)\n",
    "    error3 += (ys-wingDef_nonDim_test[i])**2\n",
    "error3 = error3/len(x_test)\n"
   ]
  },
  {
   "cell_type": "markdown",
   "id": "e84779d8",
   "metadata": {},
   "source": [
    "Using a fourth order polynomial"
   ]
  },
  {
   "cell_type": "code",
   "execution_count": 31,
   "id": "ebbfa877",
   "metadata": {},
   "outputs": [],
   "source": [
    "k = 4\n",
    "# x is already defined\n",
    "b = polynomial_basis(k,x)\n",
    "bpinv = np.linalg.pinv(b)\n",
    "params = bpinv*wingDef_nonDim_train\n",
    "\n",
    "xp = np.linspace(x[0],x[len(x)-1],100)\n",
    "yp4 = np.zeros([len(xp),])\n",
    "for i in range(len(yp4)):\n",
    "    btest = polynomial_basis(k,np.array([xp[i]]))\n",
    "    yp4[i] = np.dot(btest,params)\n",
    "\n"
   ]
  },
  {
   "cell_type": "code",
   "execution_count": 32,
   "id": "870ea454",
   "metadata": {},
   "outputs": [],
   "source": [
    "error4 = 0;\n",
    "for i in range(len(x_test)):\n",
    "    btest = polynomial_basis(k,np.array([x_test[i]]))\n",
    "    ys = np.dot(btest,params)\n",
    "    error4 += (ys-wingDef_nonDim_test[i])**2\n",
    "error4 = error4/len(x_test)"
   ]
  },
  {
   "cell_type": "code",
   "execution_count": 33,
   "id": "53680a55",
   "metadata": {},
   "outputs": [
    {
     "data": {
      "text/plain": [
       "Text(0.5, 0, 'Uinf (m/s)')"
      ]
     },
     "execution_count": 33,
     "metadata": {},
     "output_type": "execute_result"
    },
    {
     "data": {
      "image/png": "[encoded data removed]",
      "text/plain": [
       "<Figure size 432x288 with 1 Axes>"
      ]
     },
     "metadata": {
      "needs_background": "light"
     },
     "output_type": "display_data"
    }
   ],
   "source": [
    "# Plot the points on the graph\n",
    "fig4, ax = plt.subplots()\n",
    "\n",
    "ax.plot(x,wingDef_nonDim_train,'x')\n",
    "ax.plot(x_test,wingDef_nonDim_test,'o')\n",
    "ax.plot(xp,yp)\n",
    "ax.plot(xp,yp3)\n",
    "ax.plot(xp,yp4,'--')\n",
    "\n",
    "ax.legend([\"Training points\",\"Testing points\",\"Data-Fit 2nd\",\"Data-fit 3rd\",\"Data-fit 4th\"])\n",
    "ax.grid(True)\n",
    "ax.set_ylabel('Wing Deflection (% s)')\n",
    "ax.set_xlabel('Uinf (m/s)')"
   ]
  },
  {
   "cell_type": "markdown",
   "id": "bc77e7ed",
   "metadata": {},
   "source": [
    "## Print errors"
   ]
  },
  {
   "cell_type": "code",
   "execution_count": 34,
   "id": "2496d958",
   "metadata": {},
   "outputs": [
    {
     "name": "stdout",
     "output_type": "stream",
     "text": [
      "2nd  [[1.37737699e-09]]\n",
      "3rd  [[1.50804784e-10]]\n",
      "4th  [[8.45388461e-11]]\n"
     ]
    }
   ],
   "source": [
    "print('2nd ', error)\n",
    "print('3rd ', error3)\n",
    "print('4th ', error4)"
   ]
  },
  {
   "cell_type": "code",
   "execution_count": null,
   "id": "8342d79c",
   "metadata": {},
   "outputs": [],
   "source": []
  }
 ],
 "metadata": {
  "kernelspec": {
   "display_name": "Python 3 (ipykernel)",
   "language": "python",
   "name": "python3"
  },
  "language_info": {
   "codemirror_mode": {
    "name": "ipython",
    "version": 3
   },
   "file_extension": ".py",
   "mimetype": "text/x-python",
   "name": "python",
   "nbconvert_exporter": "python",
   "pygments_lexer": "ipython3",
   "version": "3.8.8"
  }
 },
 "nbformat": 4,
 "nbformat_minor": 5
}
