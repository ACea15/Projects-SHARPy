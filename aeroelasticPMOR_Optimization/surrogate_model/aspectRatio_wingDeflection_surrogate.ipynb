{
 "cells": [
  {
   "cell_type": "markdown",
   "metadata": {},
   "source": [
    "# Aspect ratio wing deflection surrogate"
   ]
  },
  {
   "cell_type": "markdown",
   "metadata": {},
   "source": [
    "This file contains the procedures on obtaining a surrogate"
   ]
  },
  {
   "cell_type": "markdown",
   "metadata": {},
   "source": [
    "First read the data inputs"
   ]
  },
  {
   "cell_type": "code",
   "execution_count": 1,
   "metadata": {},
   "outputs": [],
   "source": [
    "import numpy as np\n",
    "import matplotlib\n",
    "import matplotlib.pyplot as plt\n",
    "import os\n",
    "import pandas as pd"
   ]
  },
  {
   "cell_type": "code",
   "execution_count": 2,
   "metadata": {},
   "outputs": [],
   "source": [
    "cwd = os.getcwd()\n",
    "os.chdir(cwd+'/aspectRatio_wingDef/')\n",
    "data_pandas = pd.read_csv('ar_wing_def.csv') "
   ]
  },
  {
   "cell_type": "code",
   "execution_count": 3,
   "metadata": {},
   "outputs": [
    {
     "data": {
      "text/html": [
       "<div>\n",
       "<style scoped>\n",
       "    .dataframe tbody tr th:only-of-type {\n",
       "        vertical-align: middle;\n",
       "    }\n",
       "\n",
       "    .dataframe tbody tr th {\n",
       "        vertical-align: top;\n",
       "    }\n",
       "\n",
       "    .dataframe thead th {\n",
       "        text-align: right;\n",
       "    }\n",
       "</style>\n",
       "<table border=\"1\" class=\"dataframe\">\n",
       "  <thead>\n",
       "    <tr style=\"text-align: right;\">\n",
       "      <th></th>\n",
       "      <th>Unnamed: 0</th>\n",
       "      <th>AR</th>\n",
       "      <th>wing_Def</th>\n",
       "      <th>semi_span</th>\n",
       "    </tr>\n",
       "  </thead>\n",
       "  <tbody>\n",
       "    <tr>\n",
       "      <th>0</th>\n",
       "      <td>0</td>\n",
       "      <td>10</td>\n",
       "      <td>0.005397</td>\n",
       "      <td>1.24123</td>\n",
       "    </tr>\n",
       "    <tr>\n",
       "      <th>1</th>\n",
       "      <td>1</td>\n",
       "      <td>20</td>\n",
       "      <td>0.388028</td>\n",
       "      <td>6.24123</td>\n",
       "    </tr>\n",
       "    <tr>\n",
       "      <th>2</th>\n",
       "      <td>2</td>\n",
       "      <td>30</td>\n",
       "      <td>2.442584</td>\n",
       "      <td>11.24123</td>\n",
       "    </tr>\n",
       "    <tr>\n",
       "      <th>3</th>\n",
       "      <td>3</td>\n",
       "      <td>40</td>\n",
       "      <td>6.821455</td>\n",
       "      <td>16.24123</td>\n",
       "    </tr>\n",
       "  </tbody>\n",
       "</table>\n",
       "</div>"
      ],
      "text/plain": [
       "   Unnamed: 0  AR  wing_Def  semi_span\n",
       "0           0  10  0.005397    1.24123\n",
       "1           1  20  0.388028    6.24123\n",
       "2           2  30  2.442584   11.24123\n",
       "3           3  40  6.821455   16.24123"
      ]
     },
     "execution_count": 3,
     "metadata": {},
     "output_type": "execute_result"
    }
   ],
   "source": [
    "data_pandas.head()"
   ]
  },
  {
   "cell_type": "markdown",
   "metadata": {},
   "source": [
    "Extract the data inputs from the pandas DataFrame"
   ]
  },
  {
   "cell_type": "code",
   "execution_count": 4,
   "metadata": {},
   "outputs": [],
   "source": [
    "data_numpy = data_pandas.to_numpy()"
   ]
  },
  {
   "cell_type": "code",
   "execution_count": 5,
   "metadata": {},
   "outputs": [
    {
     "name": "stdout",
     "output_type": "stream",
     "text": [
      "[[0.00000000e+00 1.00000000e+01 5.39659216e-03 1.24122952e+00]\n",
      " [1.00000000e+00 2.00000000e+01 3.88028118e-01 6.24122952e+00]\n",
      " [2.00000000e+00 3.00000000e+01 2.44258402e+00 1.12412295e+01]\n",
      " [3.00000000e+00 4.00000000e+01 6.82145531e+00 1.62412295e+01]]\n"
     ]
    }
   ],
   "source": [
    "print(data_numpy)"
   ]
  },
  {
   "cell_type": "markdown",
   "metadata": {},
   "source": [
    "Transfer columns to individual numpy variables"
   ]
  },
  {
   "cell_type": "code",
   "execution_count": 6,
   "metadata": {},
   "outputs": [],
   "source": [
    "AR = data_numpy[:,1]\n",
    "wing_def = data_numpy[:,2]\n",
    "semi_span = data_numpy[:,3]"
   ]
  },
  {
   "cell_type": "code",
   "execution_count": 7,
   "metadata": {},
   "outputs": [
    {
     "name": "stdout",
     "output_type": "stream",
     "text": [
      "[10. 20. 30. 40.]\n",
      "[5.39659216e-03 3.88028118e-01 2.44258402e+00 6.82145531e+00]\n",
      "[ 1.24122952  6.24122952 11.24122952 16.24122952]\n"
     ]
    }
   ],
   "source": [
    "print(AR)\n",
    "print(wing_def)\n",
    "print(semi_span)"
   ]
  },
  {
   "cell_type": "markdown",
   "metadata": {},
   "source": [
    "Do a non-dimensionalisation wrt. wing semi_span. Could look in literature how other people have done it"
   ]
  },
  {
   "cell_type": "code",
   "execution_count": 8,
   "metadata": {},
   "outputs": [
    {
     "name": "stdout",
     "output_type": "stream",
     "text": [
      "[0.00434778 0.06217174 0.21728798 0.42000855]\n"
     ]
    }
   ],
   "source": [
    "wingDef_nonDim = wing_def/semi_span\n",
    "print(wingDef_nonDim)"
   ]
  },
  {
   "cell_type": "markdown",
   "metadata": {},
   "source": [
    "## Plot results"
   ]
  },
  {
   "cell_type": "code",
   "execution_count": 9,
   "metadata": {},
   "outputs": [
    {
     "data": {
      "text/plain": [
       "Text(0.5, 0, 'AR')"
      ]
     },
     "execution_count": 9,
     "metadata": {},
     "output_type": "execute_result"
    },
    {
     "data": {
      "image/png": "[encoded data removed]",
      "text/plain": [
       "<Figure size 432x288 with 1 Axes>"
      ]
     },
     "metadata": {
      "needs_background": "light"
     },
     "output_type": "display_data"
    }
   ],
   "source": [
    "fig = plt.figure()\n",
    "ax  = fig.add_subplot(1,1,1)\n",
    "plt.plot(AR,wingDef_nonDim,'x')\n",
    "ax.grid(True)\n",
    "ax.set_ylabel('Wing Deflection (% s)')\n",
    "ax.set_xlabel('AR')"
   ]
  },
  {
   "cell_type": "markdown",
   "metadata": {},
   "source": [
    "## Curve Fitting"
   ]
  },
  {
   "cell_type": "markdown",
   "metadata": {},
   "source": [
    "First approach is to use a polynomial, can try various degrees e.g 2nd order, 3rd order etc... Note that 4th order should give zero error at the training data points\n"
   ]
  },
  {
   "cell_type": "code",
   "execution_count": 10,
   "metadata": {},
   "outputs": [],
   "source": [
    "def polynomial_basis(k,x):\n",
    "    \"\"\"Evaluates vector x using a kth degree polynomial.\n",
    "\n",
    "    Args:\n",
    "        k      (int): Degree of polynomial to be used\n",
    "        x (np.array): Vector of points to be evaluated\n",
    "\n",
    "    Returns:\n",
    "        b (np.array): 2D array with evaluations of x for \n",
    "\n",
    "    \"\"\"\n",
    "    num = x.size\n",
    "    b = np.zeros([num,k+1])\n",
    "    b[:,0] = 1\n",
    "    for i in range(num):\n",
    "        for j in range(k):\n",
    "            b[i,j+1] = x[i]**(j+1)\n",
    "    return b\n",
    "        \n",
    "    "
   ]
  },
  {
   "cell_type": "markdown",
   "metadata": {},
   "source": [
    "Test the function "
   ]
  },
  {
   "cell_type": "code",
   "execution_count": 11,
   "metadata": {},
   "outputs": [
    {
     "name": "stdout",
     "output_type": "stream",
     "text": [
      "[[1.0e+00 1.0e+01 1.0e+02]\n",
      " [1.0e+00 2.0e+01 4.0e+02]\n",
      " [1.0e+00 3.0e+01 9.0e+02]\n",
      " [1.0e+00 4.0e+01 1.6e+03]]\n"
     ]
    }
   ],
   "source": [
    "k = 2\n",
    "x = AR\n",
    "b = polynomial_basis(k,x)\n",
    "print(b)"
   ]
  },
  {
   "cell_type": "code",
   "execution_count": 12,
   "metadata": {},
   "outputs": [
    {
     "name": "stdout",
     "output_type": "stream",
     "text": [
      "[[ 1. 10. 10.]\n",
      " [ 1. 20. 20.]\n",
      " [ 1. 30. 30.]\n",
      " [ 1. 40. 40.]]\n"
     ]
    }
   ],
   "source": [
    "test = np.zeros([len(x),k+1])\n",
    "test[:,0] = 1\n",
    "\n",
    "for i in range(len(x)):\n",
    "    for j in range(k):\n",
    "        test[i,j+1] = AR[i]\n",
    "print(test)"
   ]
  },
  {
   "cell_type": "markdown",
   "metadata": {},
   "source": [
    "Now implement the regression model. Try using the method from Kochenderfer which utilises the Pseudoinverse from numpy : numpy.linalg.pinv"
   ]
  },
  {
   "cell_type": "code",
   "execution_count": 13,
   "metadata": {},
   "outputs": [
    {
     "name": "stdout",
     "output_type": "stream",
     "text": [
      "[[ 2.25   -0.75   -1.25    0.75  ]\n",
      " [-0.155   0.115   0.135  -0.095 ]\n",
      " [ 0.0025 -0.0025 -0.0025  0.0025]]\n",
      "[0.00434778 0.06217174 0.21728798 0.42000855]\n",
      "\n",
      "\n",
      "[[ 2.25   -0.75   -1.25    0.75  ]\n",
      " [-0.155   0.115   0.135  -0.095 ]\n",
      " [ 0.0025 -0.0025 -0.0025  0.0025]]\n",
      "[[0.00434778]\n",
      " [0.06217174]\n",
      " [0.21728798]\n",
      " [0.42000855]]\n",
      "\n",
      "\n",
      "[[ 0.00655014]\n",
      " [-0.00409109]\n",
      " [ 0.00036224]]\n"
     ]
    }
   ],
   "source": [
    "bpinv = np.linalg.pinv(b)\n",
    "\n",
    "print(bpinv)\n",
    "\n",
    "print(wingDef_nonDim)\n",
    "print('\\n')\n",
    "# Use matrix arithmetic\n",
    "wingDef_nonDim = np.matrix(wingDef_nonDim).T # Makes it a column vector\n",
    "bpinv = np.matrix(bpinv)\n",
    "\n",
    "print(bpinv)\n",
    "print(wingDef_nonDim)\n",
    "print('\\n')\n",
    "params = bpinv*wingDef_nonDim\n",
    "print(params)"
   ]
  },
  {
   "cell_type": "markdown",
   "metadata": {},
   "source": [
    "Evaluate the surrogate at many x points\n"
   ]
  },
  {
   "cell_type": "code",
   "execution_count": 14,
   "metadata": {},
   "outputs": [],
   "source": [
    "xp = np.linspace(AR[0],AR[len(AR)-1],100)\n",
    "yp = np.zeros([len(xp),])\n",
    "for i in range(len(yp)):\n",
    "    btest = polynomial_basis(k,np.array([xp[i]]))\n",
    "    yp[i] = np.dot(btest,params)\n",
    "\n",
    "\n"
   ]
  },
  {
   "cell_type": "markdown",
   "metadata": {},
   "source": [
    "Plot results to see if the graphs roughly match"
   ]
  },
  {
   "cell_type": "code",
   "execution_count": 15,
   "metadata": {},
   "outputs": [
    {
     "data": {
      "text/plain": [
       "(100,)"
      ]
     },
     "execution_count": 15,
     "metadata": {},
     "output_type": "execute_result"
    }
   ],
   "source": [
    "xp.shape\n",
    "yp.shape"
   ]
  },
  {
   "cell_type": "code",
   "execution_count": 16,
   "metadata": {},
   "outputs": [
    {
     "data": {
      "text/plain": [
       "Text(0.5, 0, 'AR')"
      ]
     },
     "execution_count": 16,
     "metadata": {},
     "output_type": "execute_result"
    },
    {
     "data": {
      "image/png": "[encoded data removed]",
      "text/plain": [
       "<Figure size 432x288 with 1 Axes>"
      ]
     },
     "metadata": {
      "needs_background": "light"
     },
     "output_type": "display_data"
    }
   ],
   "source": [
    "fig2, ax = plt.subplots()\n",
    "\n",
    "ax.plot(AR,wingDef_nonDim,'x')\n",
    "ax.plot(xp,yp)\n",
    "\n",
    "ax.legend([\"Training points\",\"Data-Fit\"])\n",
    "ax.grid(True)\n",
    "ax.set_ylabel('Wing Deflection (% s)')\n",
    "ax.set_xlabel('AR')\n",
    "\n",
    "\n"
   ]
  },
  {
   "cell_type": "markdown",
   "metadata": {},
   "source": [
    "## Get the errors from testing data"
   ]
  },
  {
   "cell_type": "code",
   "execution_count": 17,
   "metadata": {},
   "outputs": [],
   "source": [
    "# Read the data\n",
    "test_data_pandas = pd.read_csv('ar_wing_def_testing.csv') \n",
    "test_data_pandas.head()\n",
    "test_data_numpy = test_data_pandas.to_numpy()\n",
    "AR_test = test_data_numpy[:,1]\n",
    "wing_def_test = test_data_numpy[:,2]\n",
    "semi_span_test = test_data_numpy[:,3]\n",
    "wingDef_nonDim_test = wing_def_test/semi_span_test"
   ]
  },
  {
   "cell_type": "code",
   "execution_count": 18,
   "metadata": {},
   "outputs": [
    {
     "data": {
      "text/plain": [
       "Text(0.5, 0, 'AR')"
      ]
     },
     "execution_count": 18,
     "metadata": {},
     "output_type": "execute_result"
    },
    {
     "data": {
      "image/png": "[encoded data removed]",
      "text/plain": [
       "<Figure size 432x288 with 1 Axes>"
      ]
     },
     "metadata": {
      "needs_background": "light"
     },
     "output_type": "display_data"
    }
   ],
   "source": [
    "# Plot the points on the graph\n",
    "fig3, ax = plt.subplots()\n",
    "\n",
    "ax.plot(AR,wingDef_nonDim,'x')\n",
    "ax.plot(AR_test,wingDef_nonDim_test,'o')\n",
    "ax.plot(xp,yp)\n",
    "\n",
    "\n",
    "ax.legend([\"Training points\",\"Testing points\",\"Data-Fit\"])\n",
    "ax.grid(True)\n",
    "ax.set_ylabel('Wing Deflection (% s)')\n",
    "ax.set_xlabel('AR')"
   ]
  },
  {
   "cell_type": "code",
   "execution_count": 19,
   "metadata": {},
   "outputs": [
    {
     "name": "stdout",
     "output_type": "stream",
     "text": [
      "[[5.78979408e-05]]\n"
     ]
    }
   ],
   "source": [
    "# Calculate the generalisation error for a second order \n",
    "k = 2\n",
    "error = 0;\n",
    "for i in range(len(AR_test)):\n",
    "    btest = polynomial_basis(k,np.array([AR_test[i]]))\n",
    "    ys = np.dot(btest,params)\n",
    "    error += (ys-wingDef_nonDim_test[i])**2\n",
    "error = error/len(AR_test)\n",
    "\n",
    "print(error)"
   ]
  },
  {
   "cell_type": "markdown",
   "metadata": {},
   "source": [
    "## Testing error for different polynomial basis"
   ]
  },
  {
   "cell_type": "markdown",
   "metadata": {},
   "source": [
    "Using a third order polynomial"
   ]
  },
  {
   "cell_type": "code",
   "execution_count": 22,
   "metadata": {},
   "outputs": [],
   "source": [
    "k = 3\n",
    "x = AR\n",
    "b = polynomial_basis(k,x)\n",
    "bpinv = np.linalg.pinv(b)\n",
    "params = bpinv*wingDef_nonDim\n",
    "\n",
    "xp = np.linspace(AR[0],AR[len(AR)-1],100)\n",
    "yp3 = np.zeros([len(xp),])\n",
    "for i in range(len(yp3)):\n",
    "    btest = polynomial_basis(k,np.array([xp[i]]))\n",
    "    yp3[i] = np.dot(btest,params)\n",
    "\n"
   ]
  },
  {
   "cell_type": "markdown",
   "metadata": {},
   "source": [
    "Get the error"
   ]
  },
  {
   "cell_type": "code",
   "execution_count": 23,
   "metadata": {},
   "outputs": [],
   "source": [
    "error3 = 0;\n",
    "for i in range(len(AR_test)):\n",
    "    btest = polynomial_basis(k,np.array([AR_test[i]]))\n",
    "    ys = np.dot(btest,params)\n",
    "    error3 += (ys-wingDef_nonDim_test[i])**2\n",
    "error3 = error3/len(AR_test)\n"
   ]
  },
  {
   "cell_type": "markdown",
   "metadata": {},
   "source": [
    "Using a fourth order polynomial"
   ]
  },
  {
   "cell_type": "code",
   "execution_count": 24,
   "metadata": {},
   "outputs": [],
   "source": [
    "k = 4\n",
    "x = AR\n",
    "b = polynomial_basis(k,x)\n",
    "bpinv = np.linalg.pinv(b)\n",
    "params = bpinv*wingDef_nonDim\n",
    "\n",
    "xp = np.linspace(AR[0],AR[len(AR)-1],100)\n",
    "yp4 = np.zeros([len(xp),])\n",
    "for i in range(len(yp4)):\n",
    "    btest = polynomial_basis(k,np.array([xp[i]]))\n",
    "    yp4[i] = np.dot(btest,params)\n",
    "\n"
   ]
  },
  {
   "cell_type": "code",
   "execution_count": 25,
   "metadata": {},
   "outputs": [],
   "source": [
    "error4 = 0;\n",
    "for i in range(len(AR_test)):\n",
    "    btest = polynomial_basis(k,np.array([AR_test[i]]))\n",
    "    ys = np.dot(btest,params)\n",
    "    error4 += (ys-wingDef_nonDim_test[i])**2\n",
    "error4 = error4/len(AR_test)"
   ]
  },
  {
   "cell_type": "code",
   "execution_count": 27,
   "metadata": {},
   "outputs": [
    {
     "data": {
      "text/plain": [
       "Text(0.5, 0, 'AR')"
      ]
     },
     "execution_count": 27,
     "metadata": {},
     "output_type": "execute_result"
    },
    {
     "data": {
      "image/png": "[encoded data removed]",
      "text/plain": [
       "<Figure size 432x288 with 1 Axes>"
      ]
     },
     "metadata": {
      "needs_background": "light"
     },
     "output_type": "display_data"
    }
   ],
   "source": [
    "# Plot the points on the graph\n",
    "fig4, ax = plt.subplots()\n",
    "\n",
    "ax.plot(AR,wingDef_nonDim,'x')\n",
    "ax.plot(AR_test,wingDef_nonDim_test,'o')\n",
    "ax.plot(xp,yp)\n",
    "ax.plot(xp,yp3)\n",
    "ax.plot(xp,yp4,'--')\n",
    "\n",
    "ax.legend([\"Training points\",\"Testing points\",\"Data-Fit 2nd\",\"Data-fit 3rd\",\"Data-fit 4th\"])\n",
    "ax.grid(True)\n",
    "ax.set_ylabel('Wing Deflection (% s)')\n",
    "ax.set_xlabel('AR')"
   ]
  },
  {
   "cell_type": "markdown",
   "metadata": {},
   "source": [
    "## Print errors"
   ]
  },
  {
   "cell_type": "code",
   "execution_count": 28,
   "metadata": {},
   "outputs": [
    {
     "name": "stdout",
     "output_type": "stream",
     "text": [
      "2nd  [[5.78979408e-05]]\n",
      "3rd  [[1.55574241e-05]]\n",
      "4th  [[8.565419e-07]]\n"
     ]
    }
   ],
   "source": [
    "print('2nd ', error)\n",
    "print('3rd ', error3)\n",
    "print('4th ', error4)"
   ]
  }
 ],
 "metadata": {
  "kernelspec": {
   "display_name": "Python 3",
   "language": "python",
   "name": "python3"
  },
  "language_info": {
   "codemirror_mode": {
    "name": "ipython",
    "version": 3
   },
   "file_extension": ".py",
   "mimetype": "text/x-python",
   "name": "python",
   "nbconvert_exporter": "python",
   "pygments_lexer": "ipython3",
   "version": "3.7.5"
  }
 },
 "nbformat": 4,
 "nbformat_minor": 5
}
