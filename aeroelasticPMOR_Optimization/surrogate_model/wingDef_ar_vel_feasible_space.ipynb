{
 "cells": [
  {
   "cell_type": "markdown",
   "id": "b65755f3",
   "metadata": {},
   "source": [
    "This notebook presents the space that is feasible for SHARPy to calculate values of wing deflection"
   ]
  },
  {
   "cell_type": "code",
   "execution_count": 11,
   "id": "eff61ba0",
   "metadata": {},
   "outputs": [
    {
     "name": "stdout",
     "output_type": "stream",
     "text": [
      "[[0. 0. 0. 0. 0. 0. 0.]\n",
      " [0. 0. 0. 0. 0. 0. 1.]\n",
      " [0. 0. 0. 0. 0. 1. 1.]\n",
      " [0. 0. 0. 0. 1. 1. 1.]\n",
      " [0. 0. 0. 1. 1. 1. 1.]\n",
      " [0. 0. 0. 1. 1. 1. 1.]\n",
      " [0. 0. 0. 1. 1. 1. 1.]]\n"
     ]
    },
    {
     "data": {
      "image/png": "[encoded data removed]",
      "text/plain": [
       "<Figure size 432x288 with 1 Axes>"
      ]
     },
     "metadata": {
      "needs_background": "light"
     },
     "output_type": "display_data"
    }
   ],
   "source": [
    "\"\"\"\n",
    "==================================\n",
    "Modifying the coordinate formatter\n",
    "==================================\n",
    "\n",
    "Show how to modify the coordinate formatter to report the image \"z\"\n",
    "value of the nearest pixel given x and y\n",
    "\"\"\"\n",
    "import numpy as np\n",
    "import matplotlib.pyplot as plt\n",
    "\n",
    "#X = 10*np.random.rand(5, 3)\n",
    "#let rows be AR and Columns be Wind\n",
    "X = np.zeros((7,7))\n",
    "X[1:7,6] = 1\n",
    "X[2:7,5] = 1\n",
    "X[3:7,4] = 1\n",
    "X[4:7,3] = 1\n",
    "\n",
    "\n",
    "print(X)\n",
    "\n",
    "\n",
    "fig, ax = plt.subplots()\n",
    "ax.imshow(X, interpolation='nearest')\n",
    "ax.set_xlabel('q (Pa)')\n",
    "ax.set_ylabel('AR')\n",
    "numrows, numcols = X.shape\n",
    "\n",
    "\n",
    "def format_coord(x, y):\n",
    "    col = int(x + 0.5)\n",
    "    row = int(y + 0.5)\n",
    "    if col >= 0 and col < numcols and row >= 0 and row < numrows:\n",
    "        z = X[row, col]\n",
    "        return 'x=%1.4f, y=%1.4f, z=%1.4f' % (x, y, z)\n",
    "    else:\n",
    "        return 'x=%1.4f, y=%1.4f' % (x, y)\n",
    "\n",
    "ax.format_coord = format_coord\n",
    "plt.show()"
   ]
  },
  {
   "cell_type": "code",
   "execution_count": null,
   "id": "0bba2bc4",
   "metadata": {},
   "outputs": [],
   "source": []
  }
 ],
 "metadata": {
  "kernelspec": {
   "display_name": "Python 3 (ipykernel)",
   "language": "python",
   "name": "python3"
  },
  "language_info": {
   "codemirror_mode": {
    "name": "ipython",
    "version": 3
   },
   "file_extension": ".py",
   "mimetype": "text/x-python",
   "name": "python",
   "nbconvert_exporter": "python",
   "pygments_lexer": "ipython3",
   "version": "3.8.8"
  }
 },
 "nbformat": 4,
 "nbformat_minor": 5
}
