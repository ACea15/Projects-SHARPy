{
 "cells": [
  {
   "cell_type": "markdown",
   "metadata": {},
   "source": [
    "# AoA-AR 2D Surrogate on Forces "
   ]
  },
  {
   "cell_type": "markdown",
   "metadata": {},
   "source": [
    "This notebook contains the data filtering and error assessment of various 2D surrogates including polynomial and radial basis functions."
   ]
  },
  {
   "cell_type": "code",
   "execution_count": 2,
   "metadata": {},
   "outputs": [],
   "source": [
    "import numpy as np\n",
    "import matplotlib\n",
    "import matplotlib.pyplot as plt\n",
    "import os\n",
    "import pandas as pd\n",
    "from scipy.interpolate import RBFInterpolator\n",
    "from scipy.interpolate import Rbf"
   ]
  },
  {
   "cell_type": "code",
   "execution_count": 3,
   "metadata": {},
   "outputs": [],
   "source": [
    "foldername = 'aoa_ar_forces'\n",
    "cwd = os.getcwd()\n",
    "os.chdir(cwd+'/'+foldername+'/')\n",
    "data_pandas = pd.read_csv(foldername+'.csv') \n",
    "# Go back to the initial folder\n",
    "os.chdir(cwd)"
   ]
  },
  {
   "cell_type": "code",
   "execution_count": 15,
   "metadata": {},
   "outputs": [
    {
     "name": "stdout",
     "output_type": "stream",
     "text": [
      "<class 'numpy.ndarray'>\n",
      "['0_0' '1_0' '2_0' '3_0' '4_0' '5_0' '6_0' '0_1' '1_1' '2_1' '3_1' '4_1'\n",
      " '5_1' '6_1' '0_2' '1_2' '2_2' '3_2' '4_2' '5_2' '6_2' '0_3' '1_3' '2_3'\n",
      " '3_3' '4_3' '5_3' '6_3' '0_4' '1_4' '2_4' '3_4' '4_4' '5_4' '6_4' '0_5'\n",
      " '1_5' '2_5' '3_5' '4_5' '5_5' '6_5' '0_6' '1_6' '2_6' '3_6' '4_6' '5_6'\n",
      " '6_6']\n",
      "Index(['Unnamed: 0', 'label', 'AoA_deg', 'ar', 'lift', 'drag', 'my'], dtype='object')\n"
     ]
    }
   ],
   "source": [
    "data_numpy = data_pandas.to_numpy()\n",
    "AoA_deg = data_numpy[:,2]\n",
    "AR      = data_numpy[:,3]\n",
    "lift    = data_numpy[:,4]\n",
    "drag    = data_numpy[:,5]\n",
    "print(type(data_numpy[:,1]))\n",
    "print(data_numpy[:,1])\n",
    "data_pandas.head()\n",
    "print(data_pandas.keys())"
   ]
  },
  {
   "cell_type": "markdown",
   "metadata": {},
   "source": [
    "## Filter points into training and testing"
   ]
  },
  {
   "cell_type": "code",
   "execution_count": 4,
   "metadata": {},
   "outputs": [
    {
     "name": "stdout",
     "output_type": "stream",
     "text": [
      "num of training points =  25\n",
      "num of testing points =  24\n"
     ]
    }
   ],
   "source": [
    "num_models = len(data_numpy[:,1])\n",
    "i_train = np.arange(0,num_models+1,2)\n",
    "i_test = np.arange(1,num_models,2)\n",
    "x1 = AoA_deg[i_train]\n",
    "x1_test = AoA_deg[i_test]\n",
    "x2 = AR[i_train]\n",
    "x2_test = AR[i_test]\n",
    "lift_test = lift[i_test]\n",
    "print('num of training points = ',len(i_train))\n",
    "print('num of testing points = ',len(i_test))"
   ]
  },
  {
   "cell_type": "code",
   "execution_count": 5,
   "metadata": {},
   "outputs": [
    {
     "data": {
      "text/plain": [
       "Text(0.5, 0, 'AR')"
      ]
     },
     "execution_count": 5,
     "metadata": {},
     "output_type": "execute_result"
    },
    {
     "data": {
      "image/png": "[encoded data removed]",
      "text/plain": [
       "<Figure size 432x288 with 1 Axes>"
      ]
     },
     "metadata": {
      "needs_background": "light"
     },
     "output_type": "display_data"
    }
   ],
   "source": [
    "# Plot the points used\n",
    "fig1, ax = plt.subplots()\n",
    "\n",
    "ax.plot(x2,x1,'bx')\n",
    "ax.plot(x2_test,x1_test,'ro')\n",
    "\n",
    "\n",
    "ax.legend([\"Training points\",\"Testing points\"])\n",
    "ax.grid(True)\n",
    "ax.set_ylabel('AoA (deg)')\n",
    "ax.set_xlabel('AR')\n"
   ]
  },
  {
   "cell_type": "markdown",
   "metadata": {},
   "source": [
    "## Lift 2D surrogate"
   ]
  },
  {
   "cell_type": "markdown",
   "metadata": {},
   "source": [
    "To validate the lift, we will include the lift produced by a flat plate rigid wing given by Anderson Ch5. Pg 456:\n",
    "$$a = \\frac{a_0}{1+(a_0/\\pi AR)(1+\\tau)}$$ \n",
    "\n",
    "Where the value of $\\tau$ is typically between 0.05 and 0.25"
   ]
  },
  {
   "cell_type": "code",
   "execution_count": 6,
   "metadata": {},
   "outputs": [],
   "source": [
    "def lift_analytic(AoA_deg,dCldalpha2D,AR,tau,q,Sref):\n",
    "    \"\"\" Function to calculate lift using analytic equation\n",
    "    \n",
    "    Args:\n",
    "        AoA_deg   (np.array): Angle of attack in degrees\n",
    "        dCldalpha2D (float): Lift curve slope of the 2D section in 1/rad\n",
    "        AR (float): Aspect ratio\n",
    "        tau (float): Efficiency parameter\n",
    "        \n",
    "    Returns:\n",
    "        lift (np.array): Lift in N calculated at each AoA\"\"\"\n",
    "    \n",
    "    # Add tail parameters\n",
    "    AR_tail = 10\n",
    "    S_tail = 2.5\n",
    "    \n",
    "    dCldalpha_tail = dCldalpha2D/(1+dCldalpha2D/(np.pi*AR_tail)*(1+tau))\n",
    "    AoA_rad = AoA_deg*np.pi/180\n",
    "    dCldalpha = dCldalpha2D/(1+dCldalpha2D/(np.pi*AR)*(1+tau))\n",
    "    lift = (dCldalpha+dCldalpha_tail*S_tail/Sref)*AoA_rad*q*Sref\n",
    "    return lift\n"
   ]
  },
  {
   "cell_type": "code",
   "execution_count": 33,
   "metadata": {},
   "outputs": [
    {
     "name": "stdout",
     "output_type": "stream",
     "text": [
      "[  0.         750.21043954]\n"
     ]
    }
   ],
   "source": [
    "# Implement analytic result\n",
    "x_a = np.array([0,3.6])\n",
    "AR_vals = [20,24,28,32,36,40,44]\n",
    "q = 0.5*1.225*100\n",
    "Sref = 32\n",
    "tau = 0.05\n",
    "dCldalpha2D = 2*np.pi\n",
    "lift0_a = lift_analytic(x_a,dCldalpha2D,AR[0],tau,q,Sref)\n",
    "lift1_a = lift_analytic(x_a,dCldalpha2D,AR[1],tau,q,Sref) \n",
    "lift2_a = lift_analytic(x_a,dCldalpha2D,AR[2],tau,q,Sref) \n",
    "lift3_a = lift_analytic(x_a,dCldalpha2D,AR[3],tau,q,Sref) \n",
    "lift4_a = lift_analytic(x_a,dCldalpha2D,AR[4],tau,q,Sref) \n",
    "lift5_a = lift_analytic(x_a,dCldalpha2D,AR[5],tau,q,Sref) \n",
    "lift6_a = lift_analytic(x_a,dCldalpha2D,AR[6],tau,q,Sref) \n",
    "print(lift0_a)"
   ]
  },
  {
   "cell_type": "code",
   "execution_count": 8,
   "metadata": {},
   "outputs": [
    {
     "data": {
      "text/plain": [
       "(0.0, 0.05)"
      ]
     },
     "execution_count": 8,
     "metadata": {},
     "output_type": "execute_result"
    },
    {
     "data": {
      "image/png": "[encoded data removed]",
      "text/plain": [
       "<Figure size 432x288 with 1 Axes>"
      ]
     },
     "metadata": {
      "needs_background": "light"
     },
     "output_type": "display_data"
    }
   ],
   "source": [
    "# Plot lift for different AR's\n",
    "x = AoA_deg[0:7]\n",
    "lift0 = lift[0:7]\n",
    "lift1 = lift[7:14]\n",
    "lift2 = lift[14:21]\n",
    "lift3 = lift[21:28]\n",
    "lift4 = lift[28:35]\n",
    "lift5 = lift[35:42]\n",
    "lift6 = lift[42:49]\n",
    "\n",
    "fig2, ax = plt.subplots()\n",
    "\n",
    "ax.plot(x,lift0,'bx-')\n",
    "ax.plot(x,lift2,'ro-')\n",
    "ax.plot(x,lift4,'gs-')\n",
    "ax.plot(x,lift6,'k^-')\n",
    "ax.plot(x_a,lift0_a,'b--')\n",
    "\n",
    "ax.legend([\"AR=20\",\"AR=28\",\"AR=36\",\"AR=44\"])\n",
    "ax.grid(True)\n",
    "ax.set_ylabel('lift (N)')\n",
    "ax.set_xlabel('AoA (deg)')\n",
    "plt.xlim([0,0.0002])\n",
    "plt.ylim([0, 0.05])"
   ]
  },
  {
   "cell_type": "markdown",
   "metadata": {},
   "source": [
    "\n",
    "## Fit a 2D surrogate to the data"
   ]
  },
  {
   "cell_type": "markdown",
   "metadata": {},
   "source": [
    "Decided that lift should be 2nd order wrt to AoA and 3rd order wrt to AR.\n"
   ]
  },
  {
   "cell_type": "code",
   "execution_count": 9,
   "metadata": {},
   "outputs": [],
   "source": [
    "def polynomial_basis2D(x,y,kx,ky):\n",
    "    \"\"\"Evaluates a vector using a kth degree polynomial in two directions.\n",
    "\n",
    "    Args:\n",
    "        x (np.array): Vector of points to be evaluated \n",
    "        y (np.array): Vector of points to be evaluated\n",
    "        kx     (int): Degree polynomial in variable x\n",
    "        ky     (int): Degree polynomial in varibale y\n",
    "    Returns:\n",
    "        b (np.array): 2D array with evaluations of x,y for every point\n",
    "\n",
    "    \"\"\"\n",
    "    num = x.size\n",
    "    num2 = y.size\n",
    "    if num != num2:\n",
    "        print('Vectors x and y must be the same size')\n",
    "    else:\n",
    "        b = np.zeros([num,(kx+1)*(ky+1)])\n",
    "        for k in range(num):\n",
    "            counter = 0\n",
    "            for i in range(kx+1):\n",
    "                for j in range(ky+1):\n",
    "                    b[k,counter] = x[k]**(i)*y[k]**(j)\n",
    "                    counter+=1\n",
    "    return b\n"
   ]
  },
  {
   "cell_type": "code",
   "execution_count": 10,
   "metadata": {},
   "outputs": [
    {
     "name": "stdout",
     "output_type": "stream",
     "text": [
      "[[1.00000000e+00 2.00000000e+01 4.00000000e+02 8.00000000e+03\n",
      "  0.00000000e+00 0.00000000e+00 0.00000000e+00 0.00000000e+00\n",
      "  0.00000000e+00 0.00000000e+00 0.00000000e+00 0.00000000e+00]\n",
      " [1.00000000e+00 2.00000000e+01 4.00000000e+02 8.00000000e+03\n",
      "  1.20000000e+00 2.40000000e+01 4.80000000e+02 9.60000000e+03\n",
      "  1.44000000e+00 2.88000000e+01 5.76000000e+02 1.15200000e+04]\n",
      " [1.00000000e+00 2.00000000e+01 4.00000000e+02 8.00000000e+03\n",
      "  2.40000000e+00 4.80000000e+01 9.60000000e+02 1.92000000e+04\n",
      "  5.76000000e+00 1.15200000e+02 2.30400000e+03 4.60800000e+04]\n",
      " [1.00000000e+00 2.00000000e+01 4.00000000e+02 8.00000000e+03\n",
      "  3.60000000e+00 7.20000000e+01 1.44000000e+03 2.88000000e+04\n",
      "  1.29600000e+01 2.59200000e+02 5.18400000e+03 1.03680000e+05]\n",
      " [1.00000000e+00 2.40000000e+01 5.76000000e+02 1.38240000e+04\n",
      "  6.00000000e-01 1.44000000e+01 3.45600000e+02 8.29440000e+03\n",
      "  3.60000000e-01 8.64000000e+00 2.07360000e+02 4.97664000e+03]\n",
      " [1.00000000e+00 2.40000000e+01 5.76000000e+02 1.38240000e+04\n",
      "  1.80000000e+00 4.32000000e+01 1.03680000e+03 2.48832000e+04\n",
      "  3.24000000e+00 7.77600000e+01 1.86624000e+03 4.47897600e+04]\n",
      " [1.00000000e+00 2.40000000e+01 5.76000000e+02 1.38240000e+04\n",
      "  3.00000000e+00 7.20000000e+01 1.72800000e+03 4.14720000e+04\n",
      "  9.00000000e+00 2.16000000e+02 5.18400000e+03 1.24416000e+05]\n",
      " [1.00000000e+00 2.80000000e+01 7.84000000e+02 2.19520000e+04\n",
      "  0.00000000e+00 0.00000000e+00 0.00000000e+00 0.00000000e+00\n",
      "  0.00000000e+00 0.00000000e+00 0.00000000e+00 0.00000000e+00]\n",
      " [1.00000000e+00 2.80000000e+01 7.84000000e+02 2.19520000e+04\n",
      "  1.20000000e+00 3.36000000e+01 9.40800000e+02 2.63424000e+04\n",
      "  1.44000000e+00 4.03200000e+01 1.12896000e+03 3.16108800e+04]\n",
      " [1.00000000e+00 2.80000000e+01 7.84000000e+02 2.19520000e+04\n",
      "  2.40000000e+00 6.72000000e+01 1.88160000e+03 5.26848000e+04\n",
      "  5.76000000e+00 1.61280000e+02 4.51584000e+03 1.26443520e+05]\n",
      " [1.00000000e+00 2.80000000e+01 7.84000000e+02 2.19520000e+04\n",
      "  3.60000000e+00 1.00800000e+02 2.82240000e+03 7.90272000e+04\n",
      "  1.29600000e+01 3.62880000e+02 1.01606400e+04 2.84497920e+05]\n",
      " [1.00000000e+00 3.20000000e+01 1.02400000e+03 3.27680000e+04\n",
      "  6.00000000e-01 1.92000000e+01 6.14400000e+02 1.96608000e+04\n",
      "  3.60000000e-01 1.15200000e+01 3.68640000e+02 1.17964800e+04]\n",
      " [1.00000000e+00 3.20000000e+01 1.02400000e+03 3.27680000e+04\n",
      "  1.80000000e+00 5.76000000e+01 1.84320000e+03 5.89824000e+04\n",
      "  3.24000000e+00 1.03680000e+02 3.31776000e+03 1.06168320e+05]\n",
      " [1.00000000e+00 3.20000000e+01 1.02400000e+03 3.27680000e+04\n",
      "  3.00000000e+00 9.60000000e+01 3.07200000e+03 9.83040000e+04\n",
      "  9.00000000e+00 2.88000000e+02 9.21600000e+03 2.94912000e+05]\n",
      " [1.00000000e+00 3.60000000e+01 1.29600000e+03 4.66560000e+04\n",
      "  0.00000000e+00 0.00000000e+00 0.00000000e+00 0.00000000e+00\n",
      "  0.00000000e+00 0.00000000e+00 0.00000000e+00 0.00000000e+00]\n",
      " [1.00000000e+00 3.60000000e+01 1.29600000e+03 4.66560000e+04\n",
      "  1.20000000e+00 4.32000000e+01 1.55520000e+03 5.59872000e+04\n",
      "  1.44000000e+00 5.18400000e+01 1.86624000e+03 6.71846400e+04]\n",
      " [1.00000000e+00 3.60000000e+01 1.29600000e+03 4.66560000e+04\n",
      "  2.40000000e+00 8.64000000e+01 3.11040000e+03 1.11974400e+05\n",
      "  5.76000000e+00 2.07360000e+02 7.46496000e+03 2.68738560e+05]\n",
      " [1.00000000e+00 3.60000000e+01 1.29600000e+03 4.66560000e+04\n",
      "  3.60000000e+00 1.29600000e+02 4.66560000e+03 1.67961600e+05\n",
      "  1.29600000e+01 4.66560000e+02 1.67961600e+04 6.04661760e+05]\n",
      " [1.00000000e+00 4.00000000e+01 1.60000000e+03 6.40000000e+04\n",
      "  6.00000000e-01 2.40000000e+01 9.60000000e+02 3.84000000e+04\n",
      "  3.60000000e-01 1.44000000e+01 5.76000000e+02 2.30400000e+04]\n",
      " [1.00000000e+00 4.00000000e+01 1.60000000e+03 6.40000000e+04\n",
      "  1.80000000e+00 7.20000000e+01 2.88000000e+03 1.15200000e+05\n",
      "  3.24000000e+00 1.29600000e+02 5.18400000e+03 2.07360000e+05]\n",
      " [1.00000000e+00 4.00000000e+01 1.60000000e+03 6.40000000e+04\n",
      "  3.00000000e+00 1.20000000e+02 4.80000000e+03 1.92000000e+05\n",
      "  9.00000000e+00 3.60000000e+02 1.44000000e+04 5.76000000e+05]\n",
      " [1.00000000e+00 4.40000000e+01 1.93600000e+03 8.51840000e+04\n",
      "  0.00000000e+00 0.00000000e+00 0.00000000e+00 0.00000000e+00\n",
      "  0.00000000e+00 0.00000000e+00 0.00000000e+00 0.00000000e+00]\n",
      " [1.00000000e+00 4.40000000e+01 1.93600000e+03 8.51840000e+04\n",
      "  1.20000000e+00 5.28000000e+01 2.32320000e+03 1.02220800e+05\n",
      "  1.44000000e+00 6.33600000e+01 2.78784000e+03 1.22664960e+05]\n",
      " [1.00000000e+00 4.40000000e+01 1.93600000e+03 8.51840000e+04\n",
      "  2.40000000e+00 1.05600000e+02 4.64640000e+03 2.04441600e+05\n",
      "  5.76000000e+00 2.53440000e+02 1.11513600e+04 4.90659840e+05]\n",
      " [1.00000000e+00 4.40000000e+01 1.93600000e+03 8.51840000e+04\n",
      "  3.60000000e+00 1.58400000e+02 6.96960000e+03 3.06662400e+05\n",
      "  1.29600000e+01 5.70240000e+02 2.50905600e+04 1.10398464e+06]]\n"
     ]
    }
   ],
   "source": [
    "#test the function\n",
    "x = x1\n",
    "y = x2\n",
    "kx = 2\n",
    "ky = 3\n",
    "b = polynomial_basis2D(x,y,kx,ky)\n",
    "print(b)"
   ]
  },
  {
   "cell_type": "code",
   "execution_count": 11,
   "metadata": {},
   "outputs": [],
   "source": [
    "def eval_parameter(f,b):\n",
    "    \"\"\" Function evaluates a theta matrix which solves a least squares\n",
    "    problem: [theta]=[B^+]{f} where [B^+] is the Moore-Penrose Pseudo Inverse\n",
    "    These points can then be used to evaluate the polynomial via:\n",
    "    f(x) = theta[0]*b[0]+theta[1]*b[1]+...+theta[k+1]*b[k+1]\"\"\"\n",
    "\n",
    "    y     = np.matrix(f).T # Use a column vector\n",
    "    bpinv = np.matrix(np.linalg.pinv(b)) # calculate the pseudo inverse\n",
    "    theta = bpinv*y\n",
    "    return theta"
   ]
  },
  {
   "cell_type": "code",
   "execution_count": 12,
   "metadata": {},
   "outputs": [
    {
     "name": "stdout",
     "output_type": "stream",
     "text": [
      "[[24.48301136253231]\n",
      " [-2.57936690010576]\n",
      " [0.08405293092658066]\n",
      " [-0.0008549538987765901]\n",
      " [144.02380050725606]\n",
      " [6.3605885381284395]\n",
      " [-0.1530192352763553]\n",
      " [0.0011971714382612714]\n",
      " [7.958678288266924]\n",
      " [-0.8848679114657614]\n",
      " [0.005084472819075092]\n",
      " [3.53679944523691e-05]]\n"
     ]
    }
   ],
   "source": [
    "theta = eval_parameter(lift[i_train],b)\n",
    "print(theta)"
   ]
  },
  {
   "cell_type": "code",
   "execution_count": 13,
   "metadata": {},
   "outputs": [],
   "source": [
    "def eval_surrogate(theta,x,y,kx,ky):\n",
    "    \"\"\" Function which evaluates the surrogate function\n",
    "\n",
    "    Args:\n",
    "        x (np.array): Points at which surrogate output is seeked\n",
    "        y (np.array): Second dimension of points to evaluate surrogate at\n",
    "        kx     (int): Degree polynomial in variable x\n",
    "        ky     (int): Degree polynomial in varibale y\n",
    "    Returns\n",
    "        f (np.array): Evaluations of the surrogate\n",
    "    \"\"\"\n",
    "    f = np.zeros([len(x), ])\n",
    "    params = theta\n",
    "    for i in range(len(x)):\n",
    "        btest = polynomial_basis2D(np.array([x[i]]),np.array([y[i]]),kx,ky)\n",
    "        f[i] = np.dot(btest, params)\n",
    "\n",
    "    return f\n"
   ]
  },
  {
   "cell_type": "code",
   "execution_count": 14,
   "metadata": {},
   "outputs": [],
   "source": [
    "xp = np.linspace(0,3.6,100)\n",
    "yp0 = AR[0]*np.ones(xp.shape)\n",
    "yp1 = AR[7]*np.ones(xp.shape)\n",
    "yp2 = AR[14]*np.ones(xp.shape)\n",
    "yp3 = AR[21]*np.ones(xp.shape)\n",
    "yp4 = AR[28]*np.ones(xp.shape)\n",
    "yp5 = AR[35]*np.ones(xp.shape)\n",
    "yp6 = AR[42]*np.ones(xp.shape)\n",
    "\n",
    "lift0surr = eval_surrogate(theta,xp,yp0,kx,ky)\n",
    "lift1surr = eval_surrogate(theta,xp,yp1,kx,ky)\n",
    "lift2surr = eval_surrogate(theta,xp,yp2,kx,ky)\n",
    "lift3surr = eval_surrogate(theta,xp,yp3,kx,ky)\n",
    "lift4surr = eval_surrogate(theta,xp,yp4,kx,ky)\n",
    "lift5surr = eval_surrogate(theta,xp,yp5,kx,ky)\n",
    "lift6surr = eval_surrogate(theta,xp,yp6,kx,ky)"
   ]
  },
  {
   "cell_type": "code",
   "execution_count": 15,
   "metadata": {},
   "outputs": [
    {
     "data": {
      "text/plain": [
       "Text(0.5, 0, 'AoA (deg)')"
      ]
     },
     "execution_count": 15,
     "metadata": {},
     "output_type": "execute_result"
    },
    {
     "data": {
      "image/png": "[encoded data removed]",
      "text/plain": [
       "<Figure size 432x288 with 1 Axes>"
      ]
     },
     "metadata": {
      "needs_background": "light"
     },
     "output_type": "display_data"
    }
   ],
   "source": [
    "# Plot lift for different AR's\n",
    "x = AoA_deg[0:7]\n",
    "# lift0 = lift[0:7]\n",
    "# lift1 = lift[7:14]\n",
    "# lift2 = lift[14:21]\n",
    "# lift3 = lift[21:28]\n",
    "# lift4 = lift[28:35]\n",
    "# lift5 = lift[35:42]\n",
    "# lift6 = lift[42:49]\n",
    "\n",
    "fig3, ax = plt.subplots()\n",
    "\n",
    "ax.plot(x,lift0,'bx')\n",
    "ax.plot(xp,lift0surr,'b-')\n",
    "ax.plot(x,lift2,'ro')\n",
    "ax.plot(xp,lift2surr,'r-')\n",
    "ax.plot(x,lift4,'gs')\n",
    "ax.plot(xp,lift4surr,'g-')\n",
    "ax.plot(x,lift6,'k^')\n",
    "ax.plot(xp,lift6surr,'k-')\n",
    "\n",
    "ax.legend([\"Points\",\"Data-fit\"])\n",
    "ax.grid(True)\n",
    "ax.set_ylabel('lift (N)')\n",
    "ax.set_xlabel('AoA (deg)')"
   ]
  },
  {
   "cell_type": "markdown",
   "metadata": {},
   "source": [
    "## Comparison with stiffer wing"
   ]
  },
  {
   "cell_type": "code",
   "execution_count": 31,
   "metadata": {},
   "outputs": [
    {
     "data": {
      "text/plain": [
       "Text(0.5, 0, 'AoA (deg)')"
      ]
     },
     "execution_count": 31,
     "metadata": {},
     "output_type": "execute_result"
    },
    {
     "data": {
      "image/png": "[encoded data removed]",
      "text/plain": [
       "<Figure size 432x288 with 1 Axes>"
      ]
     },
     "metadata": {
      "needs_background": "light"
     },
     "output_type": "display_data"
    }
   ],
   "source": [
    "foldername = 'aoa_ar_stiff_forces'\n",
    "cwd = os.getcwd()\n",
    "os.chdir(cwd+'/'+foldername+'/')\n",
    "data_stiff_pandas = pd.read_csv(foldername+'.csv') \n",
    "# Go back to the initial folder\n",
    "os.chdir(cwd)\n",
    "# Get the data\n",
    "data_stiff_numpy = data_stiff_pandas.to_numpy()\n",
    "lift_stiff    = data_stiff_numpy[:,4]\n",
    "drag_stiff    = data_stiff_numpy[:,5]\n",
    "\n",
    "lift_stiff0 = lift_stiff[0:7]\n",
    "lift_stiff1 = lift_stiff[7:14]\n",
    "lift_stiff2 = lift_stiff[14:21]\n",
    "lift_stiff3 = lift_stiff[21:28]\n",
    "lift_stiff4 = lift_stiff[28:35]\n",
    "lift_stiff5 = lift_stiff[35:42]\n",
    "lift_stiff6 = lift_stiff[42:49] \n",
    "\n",
    "fig3_1, ax = plt.subplots()\n",
    "\n",
    "ax.plot(x,lift6,'bx-')\n",
    "ax.plot(x,lift_stiff6,'ro-')\n",
    "ax.plot(x_a,lift6_a,'k--')\n",
    "\n",
    "\n",
    "ax.legend([\"Flexible\",\"Stiff\",\"Analytic\"])\n",
    "plt.title('Lift for AR=44')\n",
    "ax.grid(True)\n",
    "ax.set_ylabel('lift (N)')\n",
    "ax.set_xlabel('AoA (deg)')"
   ]
  },
  {
   "cell_type": "code",
   "execution_count": 35,
   "metadata": {},
   "outputs": [
    {
     "data": {
      "text/plain": [
       "Text(0.5, 0, 'AoA (deg)')"
      ]
     },
     "execution_count": 35,
     "metadata": {},
     "output_type": "execute_result"
    },
    {
     "data": {
      "image/png": "[encoded data removed]",
      "text/plain": [
       "<Figure size 432x288 with 1 Axes>"
      ]
     },
     "metadata": {
      "needs_background": "light"
     },
     "output_type": "display_data"
    }
   ],
   "source": [
    "fig3_2, ax = plt.subplots()\n",
    "\n",
    "ax.plot(x,lift0,'bx-')\n",
    "ax.plot(x,lift2,'ro-')\n",
    "ax.plot(x,lift4,'gs-')\n",
    "ax.plot(x,lift6,'k^-')\n",
    "ax.plot(x_a,lift0_a,'b--')\n",
    "ax.plot(x_a,lift2_a,'r--')\n",
    "ax.plot(x_a,lift4_a,'g--')\n",
    "ax.plot(x,lift_stiff0,'bx:')\n",
    "ax.plot(x,lift_stiff2,'ro:')\n",
    "ax.plot(x,lift_stiff4,'gs:')\n",
    "ax.plot(x,lift_stiff6,'k^:')\n",
    "\n",
    "\n",
    "ax.legend([\"AR=20\",\"AR=28\",\"AR=36\",\"AR=44\"])\n",
    "ax.grid(True)\n",
    "ax.set_ylabel('lift (N)')\n",
    "ax.set_xlabel('AoA (deg)')\n"
   ]
  },
  {
   "cell_type": "markdown",
   "metadata": {},
   "source": [
    "## Obtain the errors"
   ]
  },
  {
   "cell_type": "code",
   "execution_count": 17,
   "metadata": {},
   "outputs": [],
   "source": [
    "def eval_error(f_test,theta,x_test,y_test,kx,ky):\n",
    "    \"\"\" Function to evaluate the error in a model\n",
    "    \n",
    "    eval_errors(f_test,theta,x_test,y_test,kx,ky) calculates\n",
    "    the means squared error from a set of 2D testing points with \n",
    "    outputs f_test\n",
    "    \n",
    "    Args:\n",
    "        f_test  (np.array): True testing outputs from the model\n",
    "        theta   (np.array): Parameters from the surrogate\n",
    "        x_test  (np.array): Testing points from the first design parameter\n",
    "        y_test  (np.array): Testing points from the second design parameter\n",
    "        kx     (int): Degree polynomial in variable x\n",
    "        ky     (int): Degree polynomial in varibale y\n",
    "    Returns:\n",
    "        error   (float): Mean squared error\n",
    "\n",
    "    \"\"\"\n",
    "    error=0 # Initialize the error\n",
    "    f_surr = eval_surrogate(theta,x_test,y_test,kx,ky)\n",
    "    for i in range(len(f_test)):\n",
    "        error+=(f_test[i]-f_surr[i])**2\n",
    "    error = error/len(f_test)\n",
    "    \n",
    "    return error\n",
    "        "
   ]
  },
  {
   "cell_type": "code",
   "execution_count": 18,
   "metadata": {},
   "outputs": [
    {
     "name": "stdout",
     "output_type": "stream",
     "text": [
      "1.0395064947302721\n"
     ]
    }
   ],
   "source": [
    "error_lift = eval_error(lift_test,theta,x1_test,x2_test,kx,ky)\n",
    "print(error_lift)"
   ]
  },
  {
   "cell_type": "code",
   "execution_count": 19,
   "metadata": {},
   "outputs": [],
   "source": [
    "# Test with a higher degree polynomial\n",
    "kx = 3\n",
    "b2 = polynomial_basis2D(x1,x2,kx,ky)\n",
    "theta2 = eval_parameter(lift[i_train],b2)\n",
    "error_lift2 = eval_error(lift_test,theta2,x1_test,x2_test,kx,ky)"
   ]
  },
  {
   "cell_type": "code",
   "execution_count": 20,
   "metadata": {},
   "outputs": [
    {
     "name": "stdout",
     "output_type": "stream",
     "text": [
      "0.20888567097235436\n"
     ]
    }
   ],
   "source": [
    "print(error_lift2)"
   ]
  },
  {
   "cell_type": "markdown",
   "metadata": {},
   "source": [
    "## Drag 2D surrogate"
   ]
  },
  {
   "cell_type": "code",
   "execution_count": 21,
   "metadata": {},
   "outputs": [
    {
     "data": {
      "text/plain": [
       "Text(0.5, 0, 'AoA (deg)')"
      ]
     },
     "execution_count": 21,
     "metadata": {},
     "output_type": "execute_result"
    },
    {
     "data": {
      "image/png": "[encoded data removed]",
      "text/plain": [
       "<Figure size 432x288 with 1 Axes>"
      ]
     },
     "metadata": {
      "needs_background": "light"
     },
     "output_type": "display_data"
    }
   ],
   "source": [
    "# Plot lift for different AR's\n",
    "x = AoA_deg[0:7]\n",
    "drag0 = drag[0:7]\n",
    "drag1 = drag[7:14]\n",
    "drag2 = drag[14:21]\n",
    "drag3 = drag[21:28]\n",
    "drag4 = drag[28:35]\n",
    "drag5 = drag[35:42]\n",
    "drag6 = drag[42:49]\n",
    "\n",
    "fig4, ax = plt.subplots()\n",
    "\n",
    "ax.plot(x,drag0,'bx-')\n",
    "ax.plot(x,drag2,'ro-')\n",
    "ax.plot(x,drag4,'gs-')\n",
    "ax.plot(x,drag6,'k^-')\n",
    "\n",
    "\n",
    "ax.legend([\"AR=20\",\"AR=28\",\"AR=36\",\"AR=44\"])\n",
    "ax.grid(True)\n",
    "ax.set_ylabel('drag (N)')\n",
    "ax.set_xlabel('AoA (deg)')"
   ]
  },
  {
   "cell_type": "code",
   "execution_count": 22,
   "metadata": {},
   "outputs": [],
   "source": [
    "theta_drag = eval_parameter(drag[i_train],b2)"
   ]
  },
  {
   "cell_type": "code",
   "execution_count": 23,
   "metadata": {},
   "outputs": [],
   "source": [
    "kx = 3\n",
    "ky = 3\n",
    "drag0surr = eval_surrogate(theta_drag,xp,yp0,kx,ky)\n",
    "drag1surr = eval_surrogate(theta_drag,xp,yp1,kx,ky)\n",
    "drag2surr = eval_surrogate(theta_drag,xp,yp2,kx,ky)\n",
    "drag3surr = eval_surrogate(theta_drag,xp,yp3,kx,ky)\n",
    "drag4surr = eval_surrogate(theta_drag,xp,yp4,kx,ky)\n",
    "drag5surr = eval_surrogate(theta_drag,xp,yp5,kx,ky)\n",
    "drag6surr = eval_surrogate(theta_drag,xp,yp6,kx,ky)"
   ]
  },
  {
   "cell_type": "code",
   "execution_count": 24,
   "metadata": {},
   "outputs": [
    {
     "data": {
      "text/plain": [
       "Text(0.5, 0, 'AoA (deg)')"
      ]
     },
     "execution_count": 24,
     "metadata": {},
     "output_type": "execute_result"
    },
    {
     "data": {
      "image/png": "[encoded data removed]",
      "text/plain": [
       "<Figure size 432x288 with 1 Axes>"
      ]
     },
     "metadata": {
      "needs_background": "light"
     },
     "output_type": "display_data"
    }
   ],
   "source": [
    "# Plot lift for different AR's\n",
    "x = AoA_deg[0:7]\n",
    "\n",
    "fig5, ax = plt.subplots()\n",
    "\n",
    "ax.plot(x,drag0,'bx',label='_nolegend_')\n",
    "ax.plot(xp,drag0surr,'b-')\n",
    "ax.plot(x,drag2,'ro',label='_nolegend_')\n",
    "ax.plot(xp,drag2surr,'r-')\n",
    "ax.plot(x,drag4,'gs',label='_nolegend_')\n",
    "ax.plot(xp,drag4surr,'g-')\n",
    "ax.plot(x,drag6,'k^',label='_nolegend_')\n",
    "ax.plot(xp,drag6surr,'k-')\n",
    "\n",
    "ax.legend([\"AR=20\",\"AR=28\",\"AR=36\",\"AR=44\"])\n",
    "ax.grid(True)\n",
    "ax.set_ylabel('drag (N)')\n",
    "ax.set_xlabel('AoA (deg)')"
   ]
  },
  {
   "cell_type": "code",
   "execution_count": 25,
   "metadata": {},
   "outputs": [
    {
     "name": "stdout",
     "output_type": "stream",
     "text": [
      "error_drag =  4.442204250105635e-05\n"
     ]
    }
   ],
   "source": [
    "error_drag = eval_error(drag[i_test],theta_drag,x1_test,x2_test,kx,ky)\n",
    "print('error_drag = ',error_drag)"
   ]
  },
  {
   "cell_type": "code",
   "execution_count": 26,
   "metadata": {},
   "outputs": [],
   "source": [
    "# Use pandas as a method of saving the surrogate\n",
    "def save_surrogate(kx,ky,theta,filename):\n",
    "    \"\"\" Function to save the parameters of a 2D surrogate\n",
    "    \n",
    "    Args:\n",
    "        kx        (int): Degree polynomial in variable x\n",
    "        ky        (int): Degree polynomial in varibale y\n",
    "        theta(np.array): Array with coefficients to evaluate surrogate\n",
    "        filename  (str): String with name of file to save parameters to\n",
    "    Returns:\n",
    "        \n",
    "    \"\"\"\n",
    "\n",
    "    b = np.zeros([(kx+1)*(ky+1),],dtype=object)\n",
    "    w = np.zeros([(kx+1)*(ky+1),])\n",
    "    counter = 0\n",
    "    for i in range(kx+1):\n",
    "        for j in range(ky+1):\n",
    "            b[counter] = str('x^'+str(i)+'*'+'y^'+str(j))\n",
    "            w[counter] = theta[counter]\n",
    "            counter+=1\n",
    "            \n",
    "    # Save the basis and the corresponding parameters (theta) in a csv file using pandas\n",
    "    data = {\n",
    "        \"basis\": b,\n",
    "        \"theta\": w\n",
    "    }\n",
    "    data_pandas = pd.DataFrame(data)\n",
    "    data_pandas.to_csv(filename+'.csv')\n",
    "    return b\n",
    "    \n",
    "    "
   ]
  },
  {
   "cell_type": "code",
   "execution_count": 27,
   "metadata": {},
   "outputs": [],
   "source": [
    "# Change directory\n",
    "os.chdir(cwd+'/'+'surrogate_built'+'/')\n",
    "b = save_surrogate(2,3,theta,'lift_surrogate_v1')\n",
    "b_drag = save_surrogate(3,3,theta_drag,'drag_surrogate_v1')\n",
    "os.chdir(cwd)"
   ]
  },
  {
   "cell_type": "code",
   "execution_count": 28,
   "metadata": {
    "scrolled": true
   },
   "outputs": [
    {
     "name": "stdout",
     "output_type": "stream",
     "text": [
      "['x^0*y^0' 'x^0*y^1' 'x^0*y^2' 'x^0*y^3' 'x^1*y^0' 'x^1*y^1' 'x^1*y^2'\n",
      " 'x^1*y^3' 'x^2*y^0' 'x^2*y^1' 'x^2*y^2' 'x^2*y^3']\n",
      "\n",
      "\n",
      "['x^0*y^0' 'x^0*y^1' 'x^0*y^2' 'x^0*y^3' 'x^1*y^0' 'x^1*y^1' 'x^1*y^2'\n",
      " 'x^1*y^3' 'x^2*y^0' 'x^2*y^1' 'x^2*y^2' 'x^2*y^3' 'x^3*y^0' 'x^3*y^1'\n",
      " 'x^3*y^2' 'x^3*y^3']\n"
     ]
    }
   ],
   "source": [
    "print(b)\n",
    "print('\\n')\n",
    "print(b_drag)"
   ]
  },
  {
   "cell_type": "code",
   "execution_count": 3,
   "metadata": {},
   "outputs": [
    {
     "name": "stdout",
     "output_type": "stream",
     "text": [
      "dict_keys(['AR', 'aoa_deg', 'taper'])\n",
      "{'aoa_deg': 2, 'AR': 1}\n"
     ]
    }
   ],
   "source": [
    "test_dict = {'AR':1,\n",
    "            'aoa_deg':2,\n",
    "            'taper':0.2}\n",
    "parameter_names = {'AR','aoa_deg'}\n",
    "print(test_dict.keys())\n",
    "res = {key: test_dict[key] for key in test_dict.keys()\n",
    "                               & {'AR', 'aoa_deg'}}\n",
    "print(res)"
   ]
  },
  {
   "cell_type": "code",
   "execution_count": 4,
   "metadata": {
    "scrolled": true
   },
   "outputs": [
    {
     "name": "stdout",
     "output_type": "stream",
     "text": [
      "[[ 0.   0.6  1.2  1.8  2.4  3.   3.6]\n",
      " [20.  24.  28.  32.  36.  40.  44. ]]\n"
     ]
    },
    {
     "ename": "TypeError",
     "evalue": "Field elements must be 2- or 3-tuples, got 'array([20., 24., 28., 32., 36., 40., 44.])'",
     "output_type": "error",
     "traceback": [
      "\u001b[0;31m---------------------------------------------------------------------------\u001b[0m",
      "\u001b[0;31mTypeError\u001b[0m                                 Traceback (most recent call last)",
      "\u001b[0;32m/tmp/ipykernel_4473/1337703985.py\u001b[0m in \u001b[0;36m<module>\u001b[0;34m\u001b[0m\n\u001b[1;32m      5\u001b[0m \u001b[0mx\u001b[0m\u001b[0;34m[\u001b[0m\u001b[0;36m1\u001b[0m\u001b[0;34m,\u001b[0m\u001b[0;34m:\u001b[0m\u001b[0;34m]\u001b[0m \u001b[0;34m=\u001b[0m \u001b[0mar\u001b[0m\u001b[0;34m\u001b[0m\u001b[0;34m\u001b[0m\u001b[0m\n\u001b[1;32m      6\u001b[0m \u001b[0mprint\u001b[0m\u001b[0;34m(\u001b[0m\u001b[0mx\u001b[0m\u001b[0;34m)\u001b[0m\u001b[0;34m\u001b[0m\u001b[0;34m\u001b[0m\u001b[0m\n\u001b[0;32m----> 7\u001b[0;31m \u001b[0mx2\u001b[0m \u001b[0;34m=\u001b[0m \u001b[0mnp\u001b[0m\u001b[0;34m.\u001b[0m\u001b[0marray\u001b[0m\u001b[0;34m(\u001b[0m\u001b[0;34m[\u001b[0m\u001b[0maoa_deg\u001b[0m\u001b[0;34m]\u001b[0m\u001b[0;34m,\u001b[0m\u001b[0;34m[\u001b[0m\u001b[0mar\u001b[0m\u001b[0;34m]\u001b[0m\u001b[0;34m)\u001b[0m\u001b[0;34m\u001b[0m\u001b[0;34m\u001b[0m\u001b[0m\n\u001b[0m",
      "\u001b[0;31mTypeError\u001b[0m: Field elements must be 2- or 3-tuples, got 'array([20., 24., 28., 32., 36., 40., 44.])'"
     ]
    }
   ],
   "source": [
    "aoa_deg = np.linspace(0,3.6,7)\n",
    "ar = np.linspace(20,44,7)\n",
    "x = np.zeros([2,len(aoa_deg)])\n",
    "x[0,:] = aoa_deg\n",
    "x[1,:] = ar\n",
    "print(x)\n"
   ]
  },
  {
   "cell_type": "code",
   "execution_count": 5,
   "metadata": {},
   "outputs": [
    {
     "name": "stdout",
     "output_type": "stream",
     "text": [
      "[2, 7]\n"
     ]
    }
   ],
   "source": [
    "[n,m] = x.shape\n",
    "print([n,m])"
   ]
  },
  {
   "cell_type": "code",
   "execution_count": 16,
   "metadata": {},
   "outputs": [
    {
     "name": "stdout",
     "output_type": "stream",
     "text": [
      "1\n"
     ]
    }
   ],
   "source": [
    "type(test_dict)==dict\n",
    "keys = list(test_dict.keys())\n",
    "print(test_dict[keys[0]])"
   ]
  },
  {
   "cell_type": "code",
   "execution_count": null,
   "metadata": {},
   "outputs": [],
   "source": []
  }
 ],
 "metadata": {
  "kernelspec": {
   "display_name": "Python 3",
   "language": "python",
   "name": "python3"
  },
  "language_info": {
   "codemirror_mode": {
    "name": "ipython",
    "version": 3
   },
   "file_extension": ".py",
   "mimetype": "text/x-python",
   "name": "python",
   "nbconvert_exporter": "python",
   "pygments_lexer": "ipython3",
   "version": "3.7.5"
  }
 },
 "nbformat": 4,
 "nbformat_minor": 5
}
