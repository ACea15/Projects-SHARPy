{
 "cells": [
  {
   "cell_type": "markdown",
   "id": "aeeaf9d7",
   "metadata": {},
   "source": [
    "# AoA-AR 2D Surrogate on Forces "
   ]
  },
  {
   "cell_type": "markdown",
   "id": "eae9ce08",
   "metadata": {},
   "source": [
    "This notebook contains the data filtering and error assessment of various 2D surrogates including polynomial and radial basis functions."
   ]
  },
  {
   "cell_type": "code",
   "execution_count": 1,
   "id": "7c6cfddf",
   "metadata": {},
   "outputs": [],
   "source": [
    "import numpy as np\n",
    "import matplotlib\n",
    "import matplotlib.pyplot as plt\n",
    "import os\n",
    "import pandas as pd\n",
    "from scipy.interpolate import RBFInterpolator\n",
    "from scipy.interpolate import Rbf"
   ]
  },
  {
   "cell_type": "code",
   "execution_count": 2,
   "id": "edcf692e",
   "metadata": {},
   "outputs": [],
   "source": [
    "foldername = 'aoa_ar_forces'\n",
    "cwd = os.getcwd()\n",
    "os.chdir(cwd+'/'+foldername+'/')\n",
    "data_pandas = pd.read_csv(foldername+'.csv') "
   ]
  },
  {
   "cell_type": "code",
   "execution_count": 3,
   "id": "ef9184ac",
   "metadata": {},
   "outputs": [
    {
     "name": "stdout",
     "output_type": "stream",
     "text": [
      "<class 'numpy.ndarray'>\n",
      "['0_0' '1_0' '2_0' '3_0' '4_0' '5_0' '6_0' '0_1' '1_1' '2_1' '3_1' '4_1'\n",
      " '5_1' '6_1' '0_2' '1_2' '2_2' '3_2' '4_2' '5_2' '6_2' '0_3' '1_3' '2_3'\n",
      " '3_3' '4_3' '5_3' '6_3' '0_4' '1_4' '2_4' '3_4' '4_4' '5_4' '6_4' '0_5'\n",
      " '1_5' '2_5' '3_5' '4_5' '5_5' '6_5' '0_6' '1_6' '2_6' '3_6' '4_6' '5_6'\n",
      " '6_6']\n"
     ]
    },
    {
     "data": {
      "text/html": [
       "<div>\n",
       "<style scoped>\n",
       "    .dataframe tbody tr th:only-of-type {\n",
       "        vertical-align: middle;\n",
       "    }\n",
       "\n",
       "    .dataframe tbody tr th {\n",
       "        vertical-align: top;\n",
       "    }\n",
       "\n",
       "    .dataframe thead th {\n",
       "        text-align: right;\n",
       "    }\n",
       "</style>\n",
       "<table border=\"1\" class=\"dataframe\">\n",
       "  <thead>\n",
       "    <tr style=\"text-align: right;\">\n",
       "      <th></th>\n",
       "      <th>Unnamed: 0</th>\n",
       "      <th>label</th>\n",
       "      <th>AoA_deg</th>\n",
       "      <th>ar</th>\n",
       "      <th>lift</th>\n",
       "      <th>drag</th>\n",
       "      <th>my</th>\n",
       "    </tr>\n",
       "  </thead>\n",
       "  <tbody>\n",
       "    <tr>\n",
       "      <th>0</th>\n",
       "      <td>0</td>\n",
       "      <td>0_0</td>\n",
       "      <td>0.0</td>\n",
       "      <td>20.0</td>\n",
       "      <td>1.195906e-11</td>\n",
       "      <td>2.979985e-26</td>\n",
       "      <td>1.398913e-12</td>\n",
       "    </tr>\n",
       "    <tr>\n",
       "      <th>1</th>\n",
       "      <td>1</td>\n",
       "      <td>1_0</td>\n",
       "      <td>0.6</td>\n",
       "      <td>20.0</td>\n",
       "      <td>1.277337e+02</td>\n",
       "      <td>1.507186e-01</td>\n",
       "      <td>8.861840e+00</td>\n",
       "    </tr>\n",
       "    <tr>\n",
       "      <th>2</th>\n",
       "      <td>2</td>\n",
       "      <td>2_0</td>\n",
       "      <td>1.2</td>\n",
       "      <td>20.0</td>\n",
       "      <td>2.518025e+02</td>\n",
       "      <td>5.852986e-01</td>\n",
       "      <td>1.746129e+01</td>\n",
       "    </tr>\n",
       "    <tr>\n",
       "      <th>3</th>\n",
       "      <td>3</td>\n",
       "      <td>3_0</td>\n",
       "      <td>1.8</td>\n",
       "      <td>20.0</td>\n",
       "      <td>3.711550e+02</td>\n",
       "      <td>1.269414e+00</td>\n",
       "      <td>2.573061e+01</td>\n",
       "    </tr>\n",
       "    <tr>\n",
       "      <th>4</th>\n",
       "      <td>4</td>\n",
       "      <td>4_0</td>\n",
       "      <td>2.4</td>\n",
       "      <td>20.0</td>\n",
       "      <td>4.845854e+02</td>\n",
       "      <td>2.181491e+00</td>\n",
       "      <td>3.359431e+01</td>\n",
       "    </tr>\n",
       "  </tbody>\n",
       "</table>\n",
       "</div>"
      ],
      "text/plain": [
       "   Unnamed: 0 label  AoA_deg    ar          lift          drag            my\n",
       "0           0   0_0      0.0  20.0  1.195906e-11  2.979985e-26  1.398913e-12\n",
       "1           1   1_0      0.6  20.0  1.277337e+02  1.507186e-01  8.861840e+00\n",
       "2           2   2_0      1.2  20.0  2.518025e+02  5.852986e-01  1.746129e+01\n",
       "3           3   3_0      1.8  20.0  3.711550e+02  1.269414e+00  2.573061e+01\n",
       "4           4   4_0      2.4  20.0  4.845854e+02  2.181491e+00  3.359431e+01"
      ]
     },
     "execution_count": 3,
     "metadata": {},
     "output_type": "execute_result"
    }
   ],
   "source": [
    "data_numpy = data_pandas.to_numpy()\n",
    "AoA_deg = data_numpy[:,2]\n",
    "AR      = data_numpy[:,3]\n",
    "lift    = data_numpy[:,4]\n",
    "drag    = data_numpy[:,5]\n",
    "print(type(data_numpy[:,1]))\n",
    "print(data_numpy[:,1])\n",
    "data_pandas.head()"
   ]
  },
  {
   "cell_type": "markdown",
   "id": "75cda6d8",
   "metadata": {},
   "source": [
    "## Filter points into training and testing"
   ]
  },
  {
   "cell_type": "code",
   "execution_count": 44,
   "id": "dd68779a",
   "metadata": {},
   "outputs": [
    {
     "name": "stdout",
     "output_type": "stream",
     "text": [
      "num of training points =  25\n",
      "num of testing points =  24\n"
     ]
    }
   ],
   "source": [
    "num_models = len(data_numpy[:,1])\n",
    "i_train = np.arange(0,num_models+1,2)\n",
    "i_test = np.arange(1,num_models,2)\n",
    "x1 = AoA_deg[i_train]\n",
    "x1_test = AoA_deg[i_test]\n",
    "x2 = AR[i_train]\n",
    "x2_test = AR[i_test]\n",
    "lift_test = lift[i_test]\n",
    "print('num of training points = ',len(i_train))\n",
    "print('num of testing points = ',len(i_test))"
   ]
  },
  {
   "cell_type": "code",
   "execution_count": 5,
   "id": "c25c49a6",
   "metadata": {},
   "outputs": [
    {
     "data": {
      "text/plain": [
       "Text(0.5, 0, 'AR')"
      ]
     },
     "execution_count": 5,
     "metadata": {},
     "output_type": "execute_result"
    },
    {
     "data": {
      "image/png": "[encoded data removed]",
      "text/plain": [
       "<Figure size 432x288 with 1 Axes>"
      ]
     },
     "metadata": {
      "needs_background": "light"
     },
     "output_type": "display_data"
    }
   ],
   "source": [
    "# Plot the points used\n",
    "fig1, ax = plt.subplots()\n",
    "\n",
    "ax.plot(x2,x1,'bx')\n",
    "ax.plot(x2_test,x1_test,'ro')\n",
    "\n",
    "\n",
    "ax.legend([\"Training points\",\"Testing points\"])\n",
    "ax.grid(True)\n",
    "ax.set_ylabel('AoA (deg)')\n",
    "ax.set_xlabel('AR')\n"
   ]
  },
  {
   "cell_type": "markdown",
   "id": "cd8f73a9",
   "metadata": {},
   "source": [
    "## Lift 2D surrogate"
   ]
  },
  {
   "cell_type": "code",
   "execution_count": 6,
   "id": "3eea077e",
   "metadata": {},
   "outputs": [
    {
     "data": {
      "text/plain": [
       "Text(0.5, 0, 'AoA (deg)')"
      ]
     },
     "execution_count": 6,
     "metadata": {},
     "output_type": "execute_result"
    },
    {
     "data": {
      "image/png": "[encoded data removed]",
      "text/plain": [
       "<Figure size 432x288 with 1 Axes>"
      ]
     },
     "metadata": {
      "needs_background": "light"
     },
     "output_type": "display_data"
    }
   ],
   "source": [
    "# Plot lift for different AR's\n",
    "x = AoA_deg[0:7]\n",
    "lift0 = lift[0:7]\n",
    "lift1 = lift[7:14]\n",
    "lift2 = lift[14:21]\n",
    "lift3 = lift[21:28]\n",
    "lift4 = lift[28:35]\n",
    "lift5 = lift[35:42]\n",
    "lift6 = lift[42:49]\n",
    "\n",
    "fig2, ax = plt.subplots()\n",
    "\n",
    "ax.plot(x,lift0,'bx-')\n",
    "ax.plot(x,lift2,'ro-')\n",
    "ax.plot(x,lift4,'gs-')\n",
    "ax.plot(x,lift6,'k^-')\n",
    "\n",
    "\n",
    "ax.legend([\"AR=20\",\"AR=28\",\"AR=36\",\"AR=44\"])\n",
    "ax.grid(True)\n",
    "ax.set_ylabel('lift (N)')\n",
    "ax.set_xlabel('AoA (deg)')"
   ]
  },
  {
   "cell_type": "markdown",
   "id": "be253135",
   "metadata": {},
   "source": [
    "\n",
    "## Fit a 2D surrogate to the data"
   ]
  },
  {
   "cell_type": "markdown",
   "id": "ac241d2b",
   "metadata": {},
   "source": [
    "Decided that lift should be 2nd order wrt to AoA and 3rd order wrt to AR.\n"
   ]
  },
  {
   "cell_type": "code",
   "execution_count": 24,
   "id": "035c4715",
   "metadata": {},
   "outputs": [],
   "source": [
    "def polynomial_basis2D(x,y,kx,ky):\n",
    "    \"\"\"Evaluates a vector using a kth degree polynomial in two directions.\n",
    "\n",
    "    Args:\n",
    "        x (np.array): Vector of points to be evaluated \n",
    "        y (np.array): Vector of points to be evaluated\n",
    "        kx     (int): Degree polynomial in variable x\n",
    "        ky     (int): Degree polynomial in varibale y\n",
    "    Returns:\n",
    "        b (np.array): 2D array with evaluations of x,y for every point\n",
    "\n",
    "    \"\"\"\n",
    "    num = x.size\n",
    "    num2 = y.size\n",
    "    if num != num2:\n",
    "        print('Vectors x and y must be the same size')\n",
    "    else:\n",
    "        b = np.zeros([num,(kx+1)*(ky+1)])\n",
    "        for k in range(num):\n",
    "            counter = 0\n",
    "            for i in range(kx+1):\n",
    "                for j in range(ky+1):\n",
    "                    b[k,counter] = x[k]**(i)*y[k]**(j)\n",
    "                    counter+=1\n",
    "    return b\n"
   ]
  },
  {
   "cell_type": "code",
   "execution_count": 12,
   "id": "c967ae3d",
   "metadata": {},
   "outputs": [
    {
     "name": "stdout",
     "output_type": "stream",
     "text": [
      "[[1.00000000e+00 2.00000000e+01 4.00000000e+02 8.00000000e+03\n",
      "  0.00000000e+00 0.00000000e+00 0.00000000e+00 0.00000000e+00\n",
      "  0.00000000e+00 0.00000000e+00 0.00000000e+00 0.00000000e+00]\n",
      " [1.00000000e+00 2.00000000e+01 4.00000000e+02 8.00000000e+03\n",
      "  1.20000000e+00 2.40000000e+01 4.80000000e+02 9.60000000e+03\n",
      "  1.44000000e+00 2.88000000e+01 5.76000000e+02 1.15200000e+04]\n",
      " [1.00000000e+00 2.00000000e+01 4.00000000e+02 8.00000000e+03\n",
      "  2.40000000e+00 4.80000000e+01 9.60000000e+02 1.92000000e+04\n",
      "  5.76000000e+00 1.15200000e+02 2.30400000e+03 4.60800000e+04]\n",
      " [1.00000000e+00 2.00000000e+01 4.00000000e+02 8.00000000e+03\n",
      "  3.60000000e+00 7.20000000e+01 1.44000000e+03 2.88000000e+04\n",
      "  1.29600000e+01 2.59200000e+02 5.18400000e+03 1.03680000e+05]\n",
      " [1.00000000e+00 2.40000000e+01 5.76000000e+02 1.38240000e+04\n",
      "  6.00000000e-01 1.44000000e+01 3.45600000e+02 8.29440000e+03\n",
      "  3.60000000e-01 8.64000000e+00 2.07360000e+02 4.97664000e+03]\n",
      " [1.00000000e+00 2.40000000e+01 5.76000000e+02 1.38240000e+04\n",
      "  1.80000000e+00 4.32000000e+01 1.03680000e+03 2.48832000e+04\n",
      "  3.24000000e+00 7.77600000e+01 1.86624000e+03 4.47897600e+04]\n",
      " [1.00000000e+00 2.40000000e+01 5.76000000e+02 1.38240000e+04\n",
      "  3.00000000e+00 7.20000000e+01 1.72800000e+03 4.14720000e+04\n",
      "  9.00000000e+00 2.16000000e+02 5.18400000e+03 1.24416000e+05]\n",
      " [1.00000000e+00 2.80000000e+01 7.84000000e+02 2.19520000e+04\n",
      "  0.00000000e+00 0.00000000e+00 0.00000000e+00 0.00000000e+00\n",
      "  0.00000000e+00 0.00000000e+00 0.00000000e+00 0.00000000e+00]\n",
      " [1.00000000e+00 2.80000000e+01 7.84000000e+02 2.19520000e+04\n",
      "  1.20000000e+00 3.36000000e+01 9.40800000e+02 2.63424000e+04\n",
      "  1.44000000e+00 4.03200000e+01 1.12896000e+03 3.16108800e+04]\n",
      " [1.00000000e+00 2.80000000e+01 7.84000000e+02 2.19520000e+04\n",
      "  2.40000000e+00 6.72000000e+01 1.88160000e+03 5.26848000e+04\n",
      "  5.76000000e+00 1.61280000e+02 4.51584000e+03 1.26443520e+05]\n",
      " [1.00000000e+00 2.80000000e+01 7.84000000e+02 2.19520000e+04\n",
      "  3.60000000e+00 1.00800000e+02 2.82240000e+03 7.90272000e+04\n",
      "  1.29600000e+01 3.62880000e+02 1.01606400e+04 2.84497920e+05]\n",
      " [1.00000000e+00 3.20000000e+01 1.02400000e+03 3.27680000e+04\n",
      "  6.00000000e-01 1.92000000e+01 6.14400000e+02 1.96608000e+04\n",
      "  3.60000000e-01 1.15200000e+01 3.68640000e+02 1.17964800e+04]\n",
      " [1.00000000e+00 3.20000000e+01 1.02400000e+03 3.27680000e+04\n",
      "  1.80000000e+00 5.76000000e+01 1.84320000e+03 5.89824000e+04\n",
      "  3.24000000e+00 1.03680000e+02 3.31776000e+03 1.06168320e+05]\n",
      " [1.00000000e+00 3.20000000e+01 1.02400000e+03 3.27680000e+04\n",
      "  3.00000000e+00 9.60000000e+01 3.07200000e+03 9.83040000e+04\n",
      "  9.00000000e+00 2.88000000e+02 9.21600000e+03 2.94912000e+05]\n",
      " [1.00000000e+00 3.60000000e+01 1.29600000e+03 4.66560000e+04\n",
      "  0.00000000e+00 0.00000000e+00 0.00000000e+00 0.00000000e+00\n",
      "  0.00000000e+00 0.00000000e+00 0.00000000e+00 0.00000000e+00]\n",
      " [1.00000000e+00 3.60000000e+01 1.29600000e+03 4.66560000e+04\n",
      "  1.20000000e+00 4.32000000e+01 1.55520000e+03 5.59872000e+04\n",
      "  1.44000000e+00 5.18400000e+01 1.86624000e+03 6.71846400e+04]\n",
      " [1.00000000e+00 3.60000000e+01 1.29600000e+03 4.66560000e+04\n",
      "  2.40000000e+00 8.64000000e+01 3.11040000e+03 1.11974400e+05\n",
      "  5.76000000e+00 2.07360000e+02 7.46496000e+03 2.68738560e+05]\n",
      " [1.00000000e+00 3.60000000e+01 1.29600000e+03 4.66560000e+04\n",
      "  3.60000000e+00 1.29600000e+02 4.66560000e+03 1.67961600e+05\n",
      "  1.29600000e+01 4.66560000e+02 1.67961600e+04 6.04661760e+05]\n",
      " [1.00000000e+00 4.00000000e+01 1.60000000e+03 6.40000000e+04\n",
      "  6.00000000e-01 2.40000000e+01 9.60000000e+02 3.84000000e+04\n",
      "  3.60000000e-01 1.44000000e+01 5.76000000e+02 2.30400000e+04]\n",
      " [1.00000000e+00 4.00000000e+01 1.60000000e+03 6.40000000e+04\n",
      "  1.80000000e+00 7.20000000e+01 2.88000000e+03 1.15200000e+05\n",
      "  3.24000000e+00 1.29600000e+02 5.18400000e+03 2.07360000e+05]\n",
      " [1.00000000e+00 4.00000000e+01 1.60000000e+03 6.40000000e+04\n",
      "  3.00000000e+00 1.20000000e+02 4.80000000e+03 1.92000000e+05\n",
      "  9.00000000e+00 3.60000000e+02 1.44000000e+04 5.76000000e+05]\n",
      " [1.00000000e+00 4.40000000e+01 1.93600000e+03 8.51840000e+04\n",
      "  0.00000000e+00 0.00000000e+00 0.00000000e+00 0.00000000e+00\n",
      "  0.00000000e+00 0.00000000e+00 0.00000000e+00 0.00000000e+00]\n",
      " [1.00000000e+00 4.40000000e+01 1.93600000e+03 8.51840000e+04\n",
      "  1.20000000e+00 5.28000000e+01 2.32320000e+03 1.02220800e+05\n",
      "  1.44000000e+00 6.33600000e+01 2.78784000e+03 1.22664960e+05]\n",
      " [1.00000000e+00 4.40000000e+01 1.93600000e+03 8.51840000e+04\n",
      "  2.40000000e+00 1.05600000e+02 4.64640000e+03 2.04441600e+05\n",
      "  5.76000000e+00 2.53440000e+02 1.11513600e+04 4.90659840e+05]\n",
      " [1.00000000e+00 4.40000000e+01 1.93600000e+03 8.51840000e+04\n",
      "  3.60000000e+00 1.58400000e+02 6.96960000e+03 3.06662400e+05\n",
      "  1.29600000e+01 5.70240000e+02 2.50905600e+04 1.10398464e+06]]\n"
     ]
    }
   ],
   "source": [
    "#test the function\n",
    "x = x1\n",
    "y = x2\n",
    "kx = 2\n",
    "ky = 3\n",
    "b = polynomial_basis2D(x,y,kx,ky)\n",
    "print(b)"
   ]
  },
  {
   "cell_type": "code",
   "execution_count": 15,
   "id": "15a17179",
   "metadata": {},
   "outputs": [],
   "source": [
    "def eval_parameter(f,b):\n",
    "    \"\"\" Function evaluates a theta matrix which solves a least squares\n",
    "    problem: [theta]=[B^+]{f} where [B^+] is the Moore-Penrose Pseudo Inverse\n",
    "    These points can then be used to evaluate the polynomial via:\n",
    "    f(x) = theta[0]*b[0]+theta[1]*b[1]+...+theta[k+1]*b[k+1]\"\"\"\n",
    "\n",
    "    y     = np.matrix(f).T # Use a column vector\n",
    "    bpinv = np.matrix(np.linalg.pinv(b)) # calculate the pseudo inverse\n",
    "    theta = bpinv*y\n",
    "    return theta"
   ]
  },
  {
   "cell_type": "code",
   "execution_count": 16,
   "id": "c25fe1c5",
   "metadata": {},
   "outputs": [
    {
     "name": "stdout",
     "output_type": "stream",
     "text": [
      "[[24.48301136253231]\n",
      " [-2.57936690010576]\n",
      " [0.08405293092658066]\n",
      " [-0.0008549538987765901]\n",
      " [144.02380050725606]\n",
      " [6.3605885381284395]\n",
      " [-0.1530192352763553]\n",
      " [0.0011971714382612714]\n",
      " [7.958678288266924]\n",
      " [-0.8848679114657614]\n",
      " [0.005084472819075092]\n",
      " [3.53679944523691e-05]]\n"
     ]
    }
   ],
   "source": [
    "theta = eval_parameter(lift[i_train],b)\n",
    "print(theta)"
   ]
  },
  {
   "cell_type": "code",
   "execution_count": 26,
   "id": "7b19d469",
   "metadata": {},
   "outputs": [],
   "source": [
    "def eval_surrogate(theta,x,y,kx,ky):\n",
    "    \"\"\" Function which evaluates the surrogate function\n",
    "\n",
    "    Args:\n",
    "        x (np.array): Points at which surrogate output is seeked\n",
    "        y (np.array): Second dimension of points to evaluate surrogate at\n",
    "        kx     (int): Degree polynomial in variable x\n",
    "        ky     (int): Degree polynomial in varibale y\n",
    "    Returns\n",
    "        f (np.array): Evaluations of the surrogate\n",
    "    \"\"\"\n",
    "    f = np.zeros([len(x), ])\n",
    "    params = theta\n",
    "    for i in range(len(x)):\n",
    "        btest = polynomial_basis2D(np.array([x[i]]),np.array([y[i]]),kx,ky)\n",
    "        f[i] = np.dot(btest, params)\n",
    "\n",
    "    return f\n"
   ]
  },
  {
   "cell_type": "code",
   "execution_count": 36,
   "id": "9c09b091",
   "metadata": {},
   "outputs": [],
   "source": [
    "xp = np.linspace(0,3.6,100)\n",
    "yp0 = AR[0]*np.ones(xp.shape)\n",
    "yp1 = AR[7]*np.ones(xp.shape)\n",
    "yp2 = AR[14]*np.ones(xp.shape)\n",
    "yp3 = AR[21]*np.ones(xp.shape)\n",
    "yp4 = AR[28]*np.ones(xp.shape)\n",
    "yp5 = AR[35]*np.ones(xp.shape)\n",
    "yp6 = AR[42]*np.ones(xp.shape)\n",
    "\n",
    "lift0surr = eval_surrogate(theta,xp,yp0,kx,ky)\n",
    "lift1surr = eval_surrogate(theta,xp,yp1,kx,ky)\n",
    "lift2surr = eval_surrogate(theta,xp,yp2,kx,ky)\n",
    "lift3surr = eval_surrogate(theta,xp,yp3,kx,ky)\n",
    "lift4surr = eval_surrogate(theta,xp,yp4,kx,ky)\n",
    "lift5surr = eval_surrogate(theta,xp,yp5,kx,ky)\n",
    "lift6surr = eval_surrogate(theta,xp,yp6,kx,ky)"
   ]
  },
  {
   "cell_type": "code",
   "execution_count": 37,
   "id": "aefa1fdf",
   "metadata": {},
   "outputs": [
    {
     "data": {
      "text/plain": [
       "Text(0.5, 0, 'AoA (deg)')"
      ]
     },
     "execution_count": 37,
     "metadata": {},
     "output_type": "execute_result"
    },
    {
     "data": {
      "image/png": "[encoded data removed]",
      "text/plain": [
       "<Figure size 432x288 with 1 Axes>"
      ]
     },
     "metadata": {
      "needs_background": "light"
     },
     "output_type": "display_data"
    }
   ],
   "source": [
    "# Plot lift for different AR's\n",
    "x = AoA_deg[0:7]\n",
    "# lift0 = lift[0:7]\n",
    "# lift1 = lift[7:14]\n",
    "# lift2 = lift[14:21]\n",
    "# lift3 = lift[21:28]\n",
    "# lift4 = lift[28:35]\n",
    "# lift5 = lift[35:42]\n",
    "# lift6 = lift[42:49]\n",
    "\n",
    "fig3, ax = plt.subplots()\n",
    "\n",
    "ax.plot(x,lift0,'bx')\n",
    "ax.plot(xp,lift0surr,'b-')\n",
    "ax.plot(x,lift2,'ro')\n",
    "ax.plot(xp,lift2surr,'r-')\n",
    "ax.plot(x,lift4,'gs')\n",
    "ax.plot(xp,lift4surr,'g-')\n",
    "ax.plot(x,lift6,'k^')\n",
    "ax.plot(xp,lift6surr,'k-')\n",
    "\n",
    "ax.legend([\"Points\",\"Data-fit\"])\n",
    "ax.grid(True)\n",
    "ax.set_ylabel('lift (N)')\n",
    "ax.set_xlabel('AoA (deg)')"
   ]
  },
  {
   "cell_type": "markdown",
   "id": "e333055b",
   "metadata": {},
   "source": [
    "## Obtain the errors"
   ]
  },
  {
   "cell_type": "code",
   "execution_count": 48,
   "id": "89c0ded4",
   "metadata": {},
   "outputs": [],
   "source": [
    "def eval_error(f_test,theta,x_test,y_test,kx,ky):\n",
    "    \"\"\" Function to evaluate the error in a model\n",
    "    \n",
    "    eval_errors(f_test,theta,x_test,y_test,kx,ky) calculates\n",
    "    the means squared error from a set of 2D testing points with \n",
    "    outputs f_test\n",
    "    \n",
    "    Args:\n",
    "        f_test  (np.array): True testing outputs from the model\n",
    "        theta   (np.array): Parameters from the surrogate\n",
    "        x_test  (np.array): Testing points from the first design parameter\n",
    "        y_test  (np.array): Testing points from the second design parameter\n",
    "        kx     (int): Degree polynomial in variable x\n",
    "        ky     (int): Degree polynomial in varibale y\n",
    "    Returns:\n",
    "        error   (float): Mean squared error\n",
    "\n",
    "    \"\"\"\n",
    "    error=0 # Initialize the error\n",
    "    f_surr = eval_surrogate(theta,x_test,y_test,kx,ky)\n",
    "    for i in range(len(f_test)):\n",
    "        error+=(f_test[i]-f_surr[i])**2\n",
    "    error = error/len(f_test)\n",
    "    \n",
    "    return error\n",
    "        "
   ]
  },
  {
   "cell_type": "code",
   "execution_count": 49,
   "id": "aee49373",
   "metadata": {},
   "outputs": [
    {
     "name": "stdout",
     "output_type": "stream",
     "text": [
      "1.0395064947302721\n"
     ]
    }
   ],
   "source": [
    "error_lift = eval_error(lift_test,theta,x1_test,x2_test,kx,ky)\n",
    "print(error_lift)"
   ]
  },
  {
   "cell_type": "code",
   "execution_count": 54,
   "id": "be9db205",
   "metadata": {},
   "outputs": [],
   "source": [
    "# Test with a higher degree polynomial\n",
    "kx = 3\n",
    "b2 = polynomial_basis2D(x1,x2,kx,ky)\n",
    "theta2 = eval_parameter(lift[i_train],b2)\n",
    "error_lift2 = eval_error(lift_test,theta2,x1_test,x2_test,kx,ky)"
   ]
  },
  {
   "cell_type": "code",
   "execution_count": 55,
   "id": "f7a909c2",
   "metadata": {},
   "outputs": [
    {
     "name": "stdout",
     "output_type": "stream",
     "text": [
      "0.20888567097235436\n"
     ]
    }
   ],
   "source": [
    "print(error_lift2)"
   ]
  },
  {
   "cell_type": "code",
   "execution_count": null,
   "id": "02085776",
   "metadata": {},
   "outputs": [],
   "source": []
  }
 ],
 "metadata": {
  "kernelspec": {
   "display_name": "Python 3 (ipykernel)",
   "language": "python",
   "name": "python3"
  },
  "language_info": {
   "codemirror_mode": {
    "name": "ipython",
    "version": 3
   },
   "file_extension": ".py",
   "mimetype": "text/x-python",
   "name": "python",
   "nbconvert_exporter": "python",
   "pygments_lexer": "ipython3",
   "version": "3.8.8"
  }
 },
 "nbformat": 4,
 "nbformat_minor": 5
}
