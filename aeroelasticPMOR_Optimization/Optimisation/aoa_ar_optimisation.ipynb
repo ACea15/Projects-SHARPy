{
 "cells": [
  {
   "cell_type": "markdown",
   "id": "66663832",
   "metadata": {},
   "source": [
    "# AoA - AR Optimisation"
   ]
  },
  {
   "cell_type": "markdown",
   "id": "234a24fa",
   "metadata": {},
   "source": [
    "This is the first step towards a more complicated optimisation problem, it will optimise the induced drag for a lift = Weight constraint and will only try to optimise a single parameter: Aspect Ratio"
   ]
  },
  {
   "cell_type": "code",
   "execution_count": 44,
   "id": "6ad9cdb7",
   "metadata": {},
   "outputs": [],
   "source": [
    "import numpy as np\n",
    "import matplotlib\n",
    "import matplotlib.pyplot as plt\n",
    "import os\n",
    "import pandas as pd\n",
    "from scipy.interpolate import RBFInterpolator\n",
    "from scipy.interpolate import Rbf\n",
    "from scipy.optimize import fsolve"
   ]
  },
  {
   "cell_type": "code",
   "execution_count": 45,
   "id": "c554424f",
   "metadata": {},
   "outputs": [],
   "source": [
    "# Import the surrogates and check they are well built\n",
    "surrogate_dir = '/home/pablodfs/FYP/Projects-SHARPy/aeroelasticPMOR_Optimization/surrogate_model/surrogate_built'\n",
    "optimisation_dir = '/home/pablodfs/FYP/Projects-SHARPy/aeroelasticPMOR_Optimization/optimisation'\n",
    "os.chdir(surrogate_dir)\n",
    "\n",
    "lift_pandas = pd.read_csv('lift_surrogate_v1.csv')\n",
    "drag_pandas = pd.read_csv('drag_surrogate_v1.csv')\n",
    "\n",
    "# Go back to the initial directory\n",
    "os.chdir(optimisation_dir)"
   ]
  },
  {
   "cell_type": "code",
   "execution_count": 46,
   "id": "5bba3188",
   "metadata": {},
   "outputs": [],
   "source": [
    "lift_pandas.head()\n",
    "lift_numpy = lift_pandas.to_numpy()\n",
    "drag_numpy = drag_pandas.to_numpy()\n",
    "\n",
    "lift_theta = lift_numpy[:,2]\n",
    "drag_theta = drag_numpy[:,2]\n",
    "# Store in column matrix form\n",
    "lift_theta = np.matrix(lift_theta).T\n",
    "drag_theta = np.matrix(drag_theta).T"
   ]
  },
  {
   "cell_type": "code",
   "execution_count": 47,
   "id": "526301eb",
   "metadata": {},
   "outputs": [],
   "source": [
    "# Evaluate the surrogate model to check it is correct\n",
    "# First the lift\n",
    "# For that need the surrogate functions:"
   ]
  },
  {
   "cell_type": "code",
   "execution_count": 48,
   "id": "f85cce40",
   "metadata": {},
   "outputs": [],
   "source": [
    "def polynomial_basis2D(x,y,kx,ky):\n",
    "    \"\"\"Evaluates a vector using a kth degree polynomial in two directions.\n",
    "\n",
    "    Args:\n",
    "        x (np.array): Vector of points to be evaluated \n",
    "        y (np.array): Vector of points to be evaluated\n",
    "        kx     (int): Degree polynomial in variable x\n",
    "        ky     (int): Degree polynomial in varibale y\n",
    "    Returns:\n",
    "        b (np.array): 2D array with evaluations of x,y for every point\n",
    "\n",
    "    \"\"\"\n",
    "    num = x.size\n",
    "    num2 = y.size\n",
    "    if num != num2:\n",
    "        print('Vectors x and y must be the same size')\n",
    "    else:\n",
    "        b = np.zeros([num,(kx+1)*(ky+1)])\n",
    "        for k in range(num):\n",
    "            counter = 0\n",
    "            for i in range(kx+1):\n",
    "                for j in range(ky+1):\n",
    "                    b[k,counter] = x[k]**(i)*y[k]**(j)\n",
    "                    counter+=1\n",
    "    return b\n"
   ]
  },
  {
   "cell_type": "code",
   "execution_count": 49,
   "id": "2d6ff29d",
   "metadata": {},
   "outputs": [],
   "source": [
    "def eval_surrogate(theta,x,y,kx,ky):\n",
    "    \"\"\" Function which evaluates the surrogate function\n",
    "\n",
    "    Args:\n",
    "        x (np.array): Points at which surrogate output is seeked\n",
    "        y (np.array): Second dimension of points to evaluate surrogate at\n",
    "        kx     (int): Degree polynomial in variable x\n",
    "        ky     (int): Degree polynomial in varibale y\n",
    "    Returns\n",
    "        f (np.array): Evaluations of the surrogate\n",
    "    \"\"\"\n",
    "    f = np.zeros([len(x), ])\n",
    "    params = theta\n",
    "    for i in range(len(x)):\n",
    "        btest = polynomial_basis2D(np.array([x[i]]),np.array([y[i]]),kx,ky)\n",
    "        f[i] = np.dot(btest, params)\n",
    "\n",
    "    return f\n"
   ]
  },
  {
   "cell_type": "code",
   "execution_count": 50,
   "id": "525a05f5",
   "metadata": {},
   "outputs": [],
   "source": [
    "kx_lift = 2\n",
    "ky_lift = 3\n",
    "\n",
    "AR = np.linspace(20,44,7)\n",
    "xp = np.linspace(0,3.6,100)\n",
    "yp0 = AR[0]*np.ones(xp.shape)\n",
    "yp1 = AR[1]*np.ones(xp.shape)\n",
    "yp2 = AR[2]*np.ones(xp.shape)\n",
    "yp3 = AR[3]*np.ones(xp.shape)\n",
    "yp4 = AR[4]*np.ones(xp.shape)\n",
    "yp5 = AR[5]*np.ones(xp.shape)\n",
    "yp6 = AR[6]*np.ones(xp.shape)\n",
    "\n",
    "lift0surr = eval_surrogate(lift_theta,xp,yp0,kx_lift,ky_lift)\n",
    "lift1surr = eval_surrogate(lift_theta,xp,yp1,kx_lift,ky_lift)\n",
    "lift2surr = eval_surrogate(lift_theta,xp,yp2,kx_lift,ky_lift)\n",
    "lift3surr = eval_surrogate(lift_theta,xp,yp3,kx_lift,ky_lift)\n",
    "lift4surr = eval_surrogate(lift_theta,xp,yp4,kx_lift,ky_lift)\n",
    "lift5surr = eval_surrogate(lift_theta,xp,yp5,kx_lift,ky_lift)\n",
    "lift6surr = eval_surrogate(lift_theta,xp,yp6,kx_lift,ky_lift)"
   ]
  },
  {
   "cell_type": "code",
   "execution_count": 105,
   "id": "1c94fab1",
   "metadata": {},
   "outputs": [
    {
     "data": {
      "text/plain": [
       "(375.0, 460.0)"
      ]
     },
     "execution_count": 105,
     "metadata": {},
     "output_type": "execute_result"
    },
    {
     "data": {
      "image/png": "[encoded data removed]",
      "text/plain": [
       "<Figure size 432x288 with 1 Axes>"
      ]
     },
     "metadata": {
      "needs_background": "light"
     },
     "output_type": "display_data"
    }
   ],
   "source": [
    "fig1, ax = plt.subplots()\n",
    "\n",
    "ax.plot(xp,lift0surr,'b-')\n",
    "\n",
    "ax.plot(xp,lift2surr,'r-')\n",
    "\n",
    "ax.plot(xp,lift4surr,'g-')\n",
    "\n",
    "ax.plot(xp,lift6surr,'k-')\n",
    "\n",
    "ax.legend([\"AR=20\",\"AR=28\",\"AR=36\",\"AR=44\"])\n",
    "ax.grid(True)\n",
    "ax.set_ylabel('lift (N)')\n",
    "ax.set_xlabel('AoA (deg)')\n",
    "ax.set_xlim([2.0,2.2])\n",
    "ax.set_ylim([375,460])\n",
    "# ax.set_xlim([1.0,1.2])\n",
    "# ax.set_ylim([210,260])\n"
   ]
  },
  {
   "cell_type": "code",
   "execution_count": 52,
   "id": "37a6a407",
   "metadata": {},
   "outputs": [],
   "source": [
    "kx_drag = 3\n",
    "ky_drag = 3\n",
    "\n",
    "drag0surr = eval_surrogate(drag_theta,xp,yp0,kx_drag,ky_drag)\n",
    "drag1surr = eval_surrogate(drag_theta,xp,yp1,kx_drag,ky_drag)\n",
    "drag2surr = eval_surrogate(drag_theta,xp,yp2,kx_drag,ky_drag)\n",
    "drag3surr = eval_surrogate(drag_theta,xp,yp3,kx_drag,ky_drag)\n",
    "drag4surr = eval_surrogate(drag_theta,xp,yp4,kx_drag,ky_drag)\n",
    "drag5surr = eval_surrogate(drag_theta,xp,yp5,kx_drag,ky_drag)\n",
    "drag6surr = eval_surrogate(drag_theta,xp,yp6,kx_drag,ky_drag)"
   ]
  },
  {
   "cell_type": "code",
   "execution_count": 53,
   "id": "0e931636",
   "metadata": {},
   "outputs": [
    {
     "data": {
      "text/plain": [
       "Text(0.5, 0, 'AoA (deg)')"
      ]
     },
     "execution_count": 53,
     "metadata": {},
     "output_type": "execute_result"
    },
    {
     "data": {
      "image/png": "[encoded data removed]",
      "text/plain": [
       "<Figure size 432x288 with 1 Axes>"
      ]
     },
     "metadata": {
      "needs_background": "light"
     },
     "output_type": "display_data"
    }
   ],
   "source": [
    "fig2, ax = plt.subplots()\n",
    "\n",
    "ax.plot(xp,drag0surr,'b-')\n",
    "\n",
    "ax.plot(xp,drag2surr,'r-')\n",
    "\n",
    "ax.plot(xp,drag4surr,'g-')\n",
    "\n",
    "ax.plot(xp,drag6surr,'k-')\n",
    "\n",
    "ax.legend([\"AR=20\",\"AR=28\",\"AR=36\",\"AR=44\"])\n",
    "ax.grid(True)\n",
    "ax.set_ylabel('drag (N)')\n",
    "ax.set_xlabel('AoA (deg)')"
   ]
  },
  {
   "cell_type": "markdown",
   "id": "6a91a26d",
   "metadata": {},
   "source": [
    "## Optimise the AR for drag\n",
    "Each AR will have an equilibrium AoA, therefore each AR has a drag"
   ]
  },
  {
   "cell_type": "markdown",
   "id": "1fd7a868",
   "metadata": {},
   "source": [
    "## Weight of the aircraft"
   ]
  },
  {
   "cell_type": "code",
   "execution_count": 54,
   "id": "acb1416f",
   "metadata": {},
   "outputs": [],
   "source": [
    "def weight(w0,w1,AR):\n",
    "    weight = w0+w1*np.sqrt(AR)\n",
    "    return weight"
   ]
  },
  {
   "cell_type": "code",
   "execution_count": 55,
   "id": "edf0b215",
   "metadata": {},
   "outputs": [
    {
     "name": "stdout",
     "output_type": "stream",
     "text": [
      "Initial aircraft weight = 28.25 kg\n"
     ]
    }
   ],
   "source": [
    "w0 = 4.25\n",
    "w1 = 3*np.sqrt(2)\n",
    "aircraft_weight = weight(w0,w1,32)\n",
    "print('Initial aircraft weight = {0:1.2f}'.format(aircraft_weight),'kg')"
   ]
  },
  {
   "cell_type": "code",
   "execution_count": 73,
   "id": "7d526b44",
   "metadata": {},
   "outputs": [],
   "source": [
    "def equilibrium(AoA_deg,*data):\n",
    "    AR, lift_theta, kx_lift, ky_lift, w0, w1 = data   # automatic unpacking\n",
    "    residual = eval_surrogate(lift_theta,np.array([AoA_deg]),np.array([AR]),kx_lift,ky_lift)-9.8*weight(w0,w1,AR)\n",
    "    return residual"
   ]
  },
  {
   "cell_type": "code",
   "execution_count": 82,
   "id": "55117732",
   "metadata": {},
   "outputs": [
    {
     "name": "stdout",
     "output_type": "stream",
     "text": [
      "[1.07704317 1.081596   1.08614129 1.09068003 1.09521316 1.09974161\n",
      " 1.10426625 1.10878797 1.1133076  1.11782597 1.12234385 1.12686203\n",
      " 1.13138126 1.13590225 1.14042574 1.14495239 1.14948288 1.15401786\n",
      " 1.15855797 1.16310383 1.16765602 1.17221514 1.17678174 1.18135639\n",
      " 1.18593962 1.19053194 1.19513386 1.19974589 1.20436848 1.20900211\n",
      " 1.21364723 1.21830427 1.22297366 1.22765581 1.23235112 1.23705996\n",
      " 1.24178272 1.24651975 1.2512714  1.25603801 1.26081989 1.26561736\n",
      " 1.27043071 1.27526024 1.2801062  1.28496888 1.2898485  1.29474532\n",
      " 1.29965955 1.3045914  1.30954108 1.31450876 1.31949463 1.32449884\n",
      " 1.32952154 1.33456286 1.33962292 1.34470184 1.3497997  1.35491658\n",
      " 1.36005254 1.36520765 1.37038193 1.37557541 1.38078809 1.38601997\n",
      " 1.39127101 1.39654119 1.40183044 1.4071387  1.41246587 1.41781185\n",
      " 1.42317651 1.42855972 1.43396131 1.43938111 1.44481893 1.45027456\n",
      " 1.45574775 1.46123825 1.46674581 1.47227011 1.47781085 1.4833677\n",
      " 1.4889403  1.49452827 1.50013121 1.50574871 1.51138031 1.51702556\n",
      " 1.52268395 1.52835498 1.53403811 1.53973277 1.54543838 1.55115432\n",
      " 1.55687995 1.56261461 1.56835761 1.57410822]\n"
     ]
    }
   ],
   "source": [
    "# Solve for AoA\n",
    "AR_p = np.linspace(20,44,100)\n",
    "AoA_deg_p = np.zeros(AR_p.shape)\n",
    "# Constants for the problem\n",
    "u_inf = 10.  # m/s\n",
    "Sref = 32.   # m^2\n",
    "rho = 1.225  # kg/m^3\n",
    "dCldAlpha = 2*np.pi\n",
    "for i in range(len(AR_p)):\n",
    "    data = (AR_p[i], lift_theta, kx_lift,ky_lift, w0, w1)\n",
    "    AoA_deg0 = (weight(w0,w1,AR_p[i])*9.8/(0.5*rho*u_inf**2*Sref*dCldAlpha))*180/np.pi\n",
    "    AoA_deg_p[i] = fsolve(equilibrium,AoA_deg0,args=data)\n",
    "print(AoA_deg_p)\n"
   ]
  },
  {
   "cell_type": "code",
   "execution_count": 93,
   "id": "55ddf113",
   "metadata": {},
   "outputs": [
    {
     "data": {
      "text/plain": [
       "Text(0.5, 0, 'AR')"
      ]
     },
     "execution_count": 93,
     "metadata": {},
     "output_type": "execute_result"
    },
    {
     "data": {
      "image/png": "[encoded data removed]",
      "text/plain": [
       "<Figure size 432x288 with 1 Axes>"
      ]
     },
     "metadata": {
      "needs_background": "light"
     },
     "output_type": "display_data"
    }
   ],
   "source": [
    "# Now plot the induced drag and find the minimum of it:\n",
    "drag_p = eval_surrogate(drag_theta,AoA_deg_p,AR_p,kx_drag,ky_drag)\n",
    "# Find the minimum drag point:\n",
    "min_drag = np.amin(drag_p)\n",
    "min_drag_i = np.argmin(drag_p)\n",
    "fig3, ax = plt.subplots()\n",
    "\n",
    "ax.plot(AR_p,drag_p,'b-')\n",
    "ax.plot(AR_p[min_drag_i],min_drag,'ro')\n",
    "\n",
    "ax.legend(['Drag','Minimum'])\n",
    "ax.grid(True)\n",
    "ax.set_ylabel('drag (N)')\n",
    "ax.set_xlabel('AR')"
   ]
  },
  {
   "cell_type": "code",
   "execution_count": 94,
   "id": "419307d9",
   "metadata": {},
   "outputs": [
    {
     "data": {
      "text/plain": [
       "Text(0.5, 0, 'AR')"
      ]
     },
     "execution_count": 94,
     "metadata": {},
     "output_type": "execute_result"
    },
    {
     "data": {
      "image/png": "[encoded data removed]",
      "text/plain": [
       "<Figure size 432x288 with 1 Axes>"
      ]
     },
     "metadata": {
      "needs_background": "light"
     },
     "output_type": "display_data"
    }
   ],
   "source": [
    "fig4, ax = plt.subplots()\n",
    "\n",
    "ax.plot(AR_p,AoA_deg_p,'b-')\n",
    "\n",
    "ax.grid(True)\n",
    "ax.set_ylabel('AoA (deg)')\n",
    "ax.set_xlabel('AR')"
   ]
  },
  {
   "cell_type": "code",
   "execution_count": 97,
   "id": "da941830",
   "metadata": {},
   "outputs": [],
   "source": [
    "wingEmptyWeightRatio = w1*np.sqrt(AR_p)/weight(w0,w1,AR_p)"
   ]
  },
  {
   "cell_type": "code",
   "execution_count": 98,
   "id": "d7bacc97",
   "metadata": {},
   "outputs": [
    {
     "data": {
      "text/plain": [
       "Text(0.5, 0, 'AR')"
      ]
     },
     "execution_count": 98,
     "metadata": {},
     "output_type": "execute_result"
    },
    {
     "data": {
      "image/png": "[encoded data removed]",
      "text/plain": [
       "<Figure size 432x288 with 1 Axes>"
      ]
     },
     "metadata": {
      "needs_background": "light"
     },
     "output_type": "display_data"
    }
   ],
   "source": [
    "fig5, ax = plt.subplots()\n",
    "\n",
    "ax.plot(AR_p,wingEmptyWeightRatio,'b-')\n",
    "\n",
    "ax.grid(True)\n",
    "ax.set_ylabel('WingEmptyWeightRatio')\n",
    "ax.set_xlabel('AR')"
   ]
  },
  {
   "cell_type": "code",
   "execution_count": 113,
   "id": "2d4fed7b",
   "metadata": {},
   "outputs": [],
   "source": [
    "# Preform optimisation at a higher weight\n",
    "w0_1 = 4.25+5\n",
    "# Solve for AoA\n",
    "AoA_deg_p1 = np.zeros(AR_p.shape)\n",
    "# Constants for the problem\n",
    "u_inf = 10.  # m/s\n",
    "Sref = 32.   # m^2\n",
    "rho = 1.225  # kg/m^3\n",
    "dCldAlpha = 2*np.pi\n",
    "for i in range(len(AR_p)):\n",
    "    data = (AR_p[i], lift_theta, kx_lift,ky_lift, w0_1, w1)\n",
    "    AoA_deg0 = (weight(w0_1,w1,AR_p[i])*9.8/(0.5*rho*u_inf**2*Sref*dCldAlpha))*180/np.pi\n",
    "    AoA_deg_p1[i] = fsolve(equilibrium,AoA_deg0,args=data)\n"
   ]
  },
  {
   "cell_type": "code",
   "execution_count": 114,
   "id": "ce8fe931",
   "metadata": {},
   "outputs": [],
   "source": [
    "# Preform optimisation at a higher weight\n",
    "w0_2 = 4.25+10\n",
    "# Solve for AoA\n",
    "AoA_deg_p2 = np.zeros(AR_p.shape)\n",
    "# Constants for the problem\n",
    "u_inf = 10.  # m/s\n",
    "Sref = 32.   # m^2\n",
    "rho = 1.225  # kg/m^3\n",
    "dCldAlpha = 2*np.pi\n",
    "for i in range(len(AR_p)):\n",
    "    data = (AR_p[i], lift_theta, kx_lift,ky_lift, w0_2, w1)\n",
    "    AoA_deg0 = (weight(w0_2,w1,AR_p[i])*9.8/(0.5*rho*u_inf**2*Sref*dCldAlpha))*180/np.pi\n",
    "    AoA_deg_p2[i] = fsolve(equilibrium,AoA_deg0,args=data)"
   ]
  },
  {
   "cell_type": "code",
   "execution_count": 115,
   "id": "e011a144",
   "metadata": {},
   "outputs": [],
   "source": [
    "# Preform optimisation at a higher weight\n",
    "w0_3 = 4.25+15\n",
    "# Solve for AoA\n",
    "AoA_deg_p3 = np.zeros(AR_p.shape)\n",
    "# Constants for the problem\n",
    "u_inf = 10.  # m/s\n",
    "Sref = 32.   # m^2\n",
    "rho = 1.225  # kg/m^3\n",
    "dCldAlpha = 2*np.pi\n",
    "for i in range(len(AR_p)):\n",
    "    data = (AR_p[i], lift_theta, kx_lift,ky_lift, w0_3, w1)\n",
    "    AoA_deg0 = (weight(w0_3,w1,AR_p[i])*9.8/(0.5*rho*u_inf**2*Sref*dCldAlpha))*180/np.pi\n",
    "    AoA_deg_p3[i] = fsolve(equilibrium,AoA_deg0,args=data)"
   ]
  },
  {
   "cell_type": "code",
   "execution_count": 116,
   "id": "184281bd",
   "metadata": {},
   "outputs": [],
   "source": [
    "# Now plot the induced drag and find the minimum of it:\n",
    "drag_p1 = eval_surrogate(drag_theta,AoA_deg_p1,AR_p,kx_drag,ky_drag)\n",
    "drag_p2 = eval_surrogate(drag_theta,AoA_deg_p2,AR_p,kx_drag,ky_drag)\n",
    "drag_p3 = eval_surrogate(drag_theta,AoA_deg_p3,AR_p,kx_drag,ky_drag)\n",
    "\n",
    "# Find the minimum drag point:\n",
    "min_drag1 = np.amin(drag_p1)\n",
    "min_drag1_i = np.argmin(drag_p1)\n",
    "\n",
    "min_drag2 = np.amin(drag_p2)\n",
    "min_drag2_i = np.argmin(drag_p2)\n",
    "\n",
    "min_drag3 = np.amin(drag_p3)\n",
    "min_drag3_i = np.argmin(drag_p3)\n",
    "\n"
   ]
  },
  {
   "cell_type": "code",
   "execution_count": 118,
   "id": "e6661ac1",
   "metadata": {},
   "outputs": [
    {
     "data": {
      "text/plain": [
       "Text(0.5, 0, 'AR')"
      ]
     },
     "execution_count": 118,
     "metadata": {},
     "output_type": "execute_result"
    },
    {
     "data": {
      "image/png": "[encoded data removed]",
      "text/plain": [
       "<Figure size 432x288 with 1 Axes>"
      ]
     },
     "metadata": {
      "needs_background": "light"
     },
     "output_type": "display_data"
    }
   ],
   "source": [
    "fig6, ax = plt.subplots()\n",
    "\n",
    "\n",
    "ax.plot(AR_p,drag_p,'b-')\n",
    "ax.plot(AR_p[min_drag_i],min_drag,'ro',label='_nolegend_')\n",
    "\n",
    "ax.plot(AR_p,drag_p1,'r-')\n",
    "ax.plot(AR_p[min_drag1_i],min_drag1,'ro',label='_nolegend_')\n",
    "\n",
    "ax.plot(AR_p,drag_p2,'g-')\n",
    "ax.plot(AR_p[min_drag2_i],min_drag2,'ro',label='_nolegend_')\n",
    "\n",
    "ax.plot(AR_p,drag_p3,'k-')\n",
    "ax.plot(AR_p[min_drag3_i],min_drag3,'ro')\n",
    "\n",
    "ax.legend(['W_pyld=0kg','W_pyld=5kg','W_pyld=10kg','W_pyld=15kg','Minimum'])\n",
    "ax.grid(True)\n",
    "ax.set_ylabel('drag (N)')\n",
    "ax.set_xlabel('AR')"
   ]
  },
  {
   "cell_type": "code",
   "execution_count": null,
   "id": "33fb11b4",
   "metadata": {},
   "outputs": [],
   "source": []
  }
 ],
 "metadata": {
  "kernelspec": {
   "display_name": "Python 3 (ipykernel)",
   "language": "python",
   "name": "python3"
  },
  "language_info": {
   "codemirror_mode": {
    "name": "ipython",
    "version": 3
   },
   "file_extension": ".py",
   "mimetype": "text/x-python",
   "name": "python",
   "nbconvert_exporter": "python",
   "pygments_lexer": "ipython3",
   "version": "3.8.8"
  }
 },
 "nbformat": 4,
 "nbformat_minor": 5
}
